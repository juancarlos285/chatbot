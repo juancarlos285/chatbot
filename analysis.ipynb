{
 "cells": [
  {
   "cell_type": "code",
   "execution_count": 184,
   "metadata": {},
   "outputs": [
    {
     "name": "stdout",
     "output_type": "stream",
     "text": [
      "<class 'pandas.core.frame.DataFrame'>\n",
      "RangeIndex: 377 entries, 0 to 376\n",
      "Data columns (total 11 columns):\n",
      " #   Column         Non-Null Count  Dtype \n",
      "---  ------         --------------  ----- \n",
      " 0   page           377 non-null    int64 \n",
      " 1   location       377 non-null    object\n",
      " 2   neighborhood   377 non-null    object\n",
      " 3   area           377 non-null    object\n",
      " 4   price          377 non-null    object\n",
      " 5   fee            377 non-null    object\n",
      " 6   bedrooms       377 non-null    object\n",
      " 7   bathrooms      377 non-null    object\n",
      " 8   parking_spots  377 non-null    object\n",
      " 9   description    377 non-null    object\n",
      " 10  url            377 non-null    object\n",
      "dtypes: int64(1), object(10)\n",
      "memory usage: 32.5+ KB\n"
     ]
    }
   ],
   "source": [
    "import pandas as pd\n",
    "\n",
    "properties_df = pd.read_json('data/property_listings.json')\n",
    "properties_df.info()   "
   ]
  },
  {
   "cell_type": "code",
   "execution_count": 168,
   "metadata": {},
   "outputs": [
    {
     "data": {
      "text/plain": [
       "'Ubicación: urbanización san rafael, Barrio: Alangasí, Quito, Area: 275 m² tot., Precio: USD 125.900, Alícuota: USD 60 Alícuota, Habitaciones: 3 hab., Baños: 2 baños, Parqueaderos: 2 estac., Descripción: Venga a vivir en una casa de 3 habitaciones en una urbanización privada de San Rafael. La casa forma parte de un pequeño conjunto de 4 viviendas. Dormitorio principal muy espacioso y luminoso, que cuenta con amplio clóset y su baño privado. Las 2 habitaciones secundarias comparten un baño. Una de las dos habitaciones tiene acceso a una pequeña terraza, a través del ventanal. La otra habitación tiene luz y calor gracias al ventanal en uno de los lados. Área social en la planta baja. Medio baño para visitas. Pequeña bodega bajo las gradas de la vivienda. La cocina tiene además al lado, un espacio para las máquinas de lavado y secado de ropa. El comedor de la casa, se comunica con el patio. El patio trasero tiene área dura en cerámica y espacio verde. En la parte delantera de la casa también se cuenta con área verde. Estacionamiento para 2 vehículos. Amplio acceso desde la calle hasta el lugar de la casa. Urbanización con seguridad 24/7. Servicios completos. Áreas verdes muy grandes. Cancha de fútbol, básquet. Pista de bicicross para niños. Huerto comunitario. Punto de recolección de reciclaje (conciencia ecológica) Caminerías y pérgolas con iluminación nocturna, Enlace: plusvalia.com/propiedades/clasificado/veclcain-venta-casa-en-una-de-las-mejores-urbanizaciones-del-66367428.html'"
      ]
     },
     "execution_count": 168,
     "metadata": {},
     "output_type": "execute_result"
    }
   ],
   "source": [
    "embeddings_df = pd.read_csv('data/properties_with_embeddings.csv')\n",
    "embeddings_df['property_string'][embeddings_df['property_string'].str.contains('san rafael')].iloc[0]"
   ]
  },
  {
   "cell_type": "code",
   "execution_count": 183,
   "metadata": {},
   "outputs": [
    {
     "data": {
      "text/plain": [
       "page                                                             9\n",
       "location                                       cesar borja cordero\n",
       "neighborhood                                       Carcelén, Quito\n",
       "area                                                   120 m² tot.\n",
       "price                                                   USD 91.000\n",
       "fee                                                USD 25 Alícuota\n",
       "bedrooms                                                    3 hab.\n",
       "bathrooms                                                  2 baños\n",
       "parking_spots                                             2 estac.\n",
       "description      Bonita casa remodelada dentro de conjunto sect...\n",
       "url              plusvalia.com/propiedades/clasificado/veclcain...\n",
       "Name: 268, dtype: object"
      ]
     },
     "execution_count": 183,
     "metadata": {},
     "output_type": "execute_result"
    }
   ],
   "source": [
    "properties_df[properties_df['url'] == 'plusvalia.com/propiedades/clasificado/casa-remodelada-en-conjunto-sector-colegio-einstein-143791680.html']\n",
    "properties_df.iloc[268]"
   ]
  },
  {
   "cell_type": "code",
   "execution_count": 178,
   "metadata": {},
   "outputs": [
    {
     "data": {
      "text/plain": [
       "'Ubicación: URBANIZACIÓN BALCÓN DEL NORTE, Barrio: Carcelén, Quito, Area: 90 m² tot., Precio: USD 112.500, Alícuota: , Habitaciones: 2 hab., Baños: 1 baño, Parqueaderos: 1 estac., Descripción: Encuentra el espacio ideal que mejor se adapte a tus gustos y necesidades. Departamentos de: 2 dormitorios se encuentra en un primer piso. sala-comedor. cocina estilo americana. area de lavado. 2 dormitorios que comparten. 1 baño completo Y que hace las veces de baño social. 1 estacionamiento. en la Urbanización balcón del norte por el sector de Carcelén Alto. Ubicaciones estratégicas. Áreas comunales llenas de arboles con senderos para caminar y canchas deportivas. Jardines. La paz que buscas para tu hogar, ¡La encuentras en Edificio Portofino. Vive rodeado de áreas verdes naturales y árboles sembrados en toda la Urbanización. Encuentra la dualidad perfecta entre campo y ubicación estratégica. Además, el edificio cuenta con terraza, para que descanses al aire libre y una sala de reuniones. Estos departamentos tienen un garaje y bodega. En cuanto a las calidades, cuentan: Acabados de lujo. Esta Urbanización está situada en una zona bien comunicada, muy cerca de las paradas de autobús, se encuentra muy cerca de un hospital y de la universidad sek, del Colegio Albert Einstein, del Centro comercial Condado Shopping y el Supermaxi así como de todos los servicios necesarios para el día a día. No tiene ascensor. Llámame y visita estos departamentos será un gusto poder atenderte., Enlace: plusvalia.com/propiedades/clasificado/veclapin-se-vende-departamento-en-urbanizacion-balcon-del-norte-142366332.html'"
      ]
     },
     "execution_count": 178,
     "metadata": {},
     "output_type": "execute_result"
    }
   ],
   "source": [
    "carcelen = embeddings_df['property_string'][embeddings_df['property_string'].str.contains('Carcelén')]\n",
    "carcelen.iloc[6]"
   ]
  },
  {
   "cell_type": "code",
   "execution_count": 224,
   "metadata": {},
   "outputs": [
    {
     "name": "stderr",
     "output_type": "stream",
     "text": [
      "[nltk_data] Downloading package stopwords to /Users/juank/nltk_data...\n",
      "[nltk_data]   Package stopwords is already up-to-date!\n"
     ]
    },
    {
     "data": {
      "text/plain": [
       "{'page': 1,\n",
       " 'location': 'Las Cucardas',\n",
       " 'neighborhood': 'El Inca, Quito',\n",
       " 'area': '145 m² tot.',\n",
       " 'price': 'USD 450',\n",
       " 'fee': 'USD 1 Alícuota',\n",
       " 'bedrooms': '2 estac.',\n",
       " 'bathrooms': 'N/A',\n",
       " 'parking_spots': 'N/A',\n",
       " 'description': 'Arriendo Local comercial - bodega de 145m2 en el Sector de El Inca, es apta para taller de confección textil, serigrafía, taller mecánico, taller de motos, área de logística, transporte, transporte de encomiendas, archivo, almacenamiento de materiales eléctricos, madera, muebles, insumos textiles, repuestos, llantas, productos no perecibles, etc. Excelente ubicación con salida hacia la Av. El Inca, Av. 6 de Diciembre. Descripción: El local - bodega tiene 145 m2 ubicado en primer piso con un baño y dos estacionamientos, área para carga y descarga de mercadería, seguridad en su ingreso. Medidor independiente de luz. precio: $450 y 2 meses de Garantía. citas: Ver datos cbr Eveling Rosas 0 9 8 7 0 0 6 8 0 6. #bodegadearriendo, #rentobodegaelinca, #galpon, #bodegaarchivo, #bodegaalmacenamiento, #localparabodegadearriendo, #wescobodegaelinca, #arriendolocalparatallertextil, #bodegagym, #arriendoparaencomiendas, #arriendoparatransporte, #tallerdemotos, #motosreparacion, #cbrevelingrosas',\n",
       " 'url': 'plusvalia.com/propiedades/clasificado/alclbgin-local-comercial-bodega-145-m-sup2--sector-el-inca-90152077.html'}"
      ]
     },
     "execution_count": 224,
     "metadata": {},
     "output_type": "execute_result"
    }
   ],
   "source": [
    "import json\n",
    "import re\n",
    "import nltk\n",
    "from nltk.corpus import stopwords\n",
    "nltk.download('stopwords')\n",
    "stop_words = set(nltk.corpus.stopwords.words('spanish'))\n",
    "\n",
    "with open('data/property_listings.json', 'r') as file:\n",
    "    properties = json.load(file)\n",
    "\n",
    "properties[0]\n"
   ]
  },
  {
   "cell_type": "code",
   "execution_count": 226,
   "metadata": {},
   "outputs": [],
   "source": [
    "def clean_and_transform_data(data):\n",
    "  \"\"\"\n",
    "  This function cleans and transforms a real estate data dictionary.\n",
    "\n",
    "  Args:\n",
    "      data (dict): The real estate data dictionary.\n",
    "\n",
    "  Returns:\n",
    "      dict: The updated dictionary with cleaned and transformed data.\n",
    "  \"\"\"\n",
    " # Create a new dictionary to store cleaned data\n",
    "  cleaned_data = {}\n",
    "\n",
    "  # Copy all keys except \"page\" and \"url\"\n",
    "  for key, value in data.items():\n",
    "    if key not in [\"page\", \"url\"]:\n",
    "      cleaned_data[key] = value\n",
    "\n",
    "  # Clean description: normalize, remove stop words, and chunk\n",
    "  cleaned_data['description'] = clean_text(data[\"description\"])\n",
    "  cleaned_data[\"description\"] = chunk_description(cleaned_data[\"description\"])  # Pass cleaned description\n",
    "\n",
    "  # Extract and clean numerical values (bedrooms, bathrooms, parking spots)\n",
    "  cleaned_data[\"bedrooms\"] = int(re.findall(r\"\\d+\", data[\"bedrooms\"])[0])\n",
    "  cleaned_data[\"bathrooms\"] = int(re.findall(r\"\\d+\", data[\"bathrooms\"])[0]) if data['bathrooms'] != 'N/A' else None\n",
    "  cleaned_data[\"parking_spots\"] = int(re.findall(r\"\\d+\", data[\"parking_spots\"])[0]) if data[\"parking_spots\"] != 'N/A' else None  # Handle missing values\n",
    "\n",
    "  # Clean location and neighborhood (directly using clean_text)\n",
    "  cleaned_data[\"location\"] = clean_text(data[\"location\"])\n",
    "  cleaned_data[\"neighborhood\"] = clean_text(data[\"neighborhood\"])\n",
    "\n",
    "  return cleaned_data\n",
    "\n",
    "def clean_text(text):\n",
    "  \"\"\"\n",
    "  This function cleans text data by normalizing and removing stop words.\n",
    "\n",
    "  Args:\n",
    "      text (str): The text string to be cleaned.\n",
    "\n",
    "  Returns:\n",
    "      str: The cleaned text string.\n",
    "  \"\"\"\n",
    "  text = text.lower()  # Normalize to lowercase\n",
    "  text = re.sub(r'[^\\w\\s]', '', text)  # Remove punctuation\n",
    "  # Remove stop words\n",
    "  text = \" \".join([word for word in text.split() if word not in stop_words])\n",
    "  return text\n",
    "\n",
    "def chunk_description(description):\n",
    "  \"\"\"\n",
    "  This function splits the description text into sentences.\n",
    "\n",
    "  Args:\n",
    "      description (str): The description text of the property.\n",
    "\n",
    "  Returns:\n",
    "      list: A list of sentences from the description.\n",
    "  \"\"\"\n",
    "  sentences = re.split(r'[.!?]+', description)\n",
    "  return sentences"
   ]
  },
  {
   "cell_type": "code",
   "execution_count": 227,
   "metadata": {},
   "outputs": [
    {
     "name": "stdout",
     "output_type": "stream",
     "text": [
      "[]\n"
     ]
    },
    {
     "data": {
      "text/plain": [
       "{'location': 'cucardas',\n",
       " 'neighborhood': 'inca quito',\n",
       " 'area': '145 m² tot.',\n",
       " 'price': 'USD 450',\n",
       " 'fee': 'USD 1 Alícuota',\n",
       " 'bedrooms': 2,\n",
       " 'bathrooms': None,\n",
       " 'parking_spots': None,\n",
       " 'description': ['arriendo local comercial bodega 145m2 sector inca apta taller confección textil serigrafía taller mecánico taller motos área logística transporte transporte encomiendas archivo almacenamiento materiales eléctricos madera muebles insumos textiles repuestos llantas productos perecibles etc excelente ubicación salida hacia av inca av 6 diciembre descripción local bodega 145 m2 ubicado primer piso baño dos estacionamientos área carga descarga mercadería seguridad ingreso medidor independiente luz precio 450 2 meses garantía citas ver datos cbr eveling rosas 0 9 8 7 0 0 6 8 0 6 bodegadearriendo rentobodegaelinca galpon bodegaarchivo bodegaalmacenamiento localparabodegadearriendo wescobodegaelinca arriendolocalparatallertextil bodegagym arriendoparaencomiendas arriendoparatransporte tallerdemotos motosreparacion cbrevelingrosas']}"
      ]
     },
     "execution_count": 227,
     "metadata": {},
     "output_type": "execute_result"
    }
   ],
   "source": [
    "clean_example = clean_and_transform_data(properties[0])\n",
    "clean_example"
   ]
  },
  {
   "cell_type": "code",
   "execution_count": null,
   "metadata": {},
   "outputs": [],
   "source": []
  },
  {
   "cell_type": "code",
   "execution_count": null,
   "metadata": {},
   "outputs": [],
   "source": []
  },
  {
   "cell_type": "code",
   "execution_count": null,
   "metadata": {},
   "outputs": [],
   "source": []
  },
  {
   "cell_type": "code",
   "execution_count": null,
   "metadata": {},
   "outputs": [],
   "source": []
  },
  {
   "cell_type": "code",
   "execution_count": null,
   "metadata": {},
   "outputs": [],
   "source": []
  },
  {
   "cell_type": "code",
   "execution_count": null,
   "metadata": {},
   "outputs": [],
   "source": []
  },
  {
   "cell_type": "code",
   "execution_count": null,
   "metadata": {},
   "outputs": [],
   "source": []
  },
  {
   "cell_type": "code",
   "execution_count": null,
   "metadata": {},
   "outputs": [],
   "source": []
  },
  {
   "cell_type": "code",
   "execution_count": null,
   "metadata": {},
   "outputs": [],
   "source": []
  },
  {
   "cell_type": "code",
   "execution_count": null,
   "metadata": {},
   "outputs": [],
   "source": []
  },
  {
   "cell_type": "code",
   "execution_count": null,
   "metadata": {},
   "outputs": [],
   "source": []
  },
  {
   "cell_type": "code",
   "execution_count": null,
   "metadata": {},
   "outputs": [],
   "source": []
  },
  {
   "cell_type": "code",
   "execution_count": 139,
   "metadata": {},
   "outputs": [
    {
     "name": "stdout",
     "output_type": "stream",
     "text": [
      "Venga a vivir en una casa de 3 habitaciones en una urbanización privada de San Rafael. La casa forma parte de un pequeño conjunto de 4 viviendas. Dormitorio principal muy espacioso y luminoso, que cuenta con amplio clóset y su baño privado. Las 2 habitaciones secundarias comparten un baño. Una de las dos habitaciones tiene acceso a una pequeña terraza, a través del ventanal. La otra habitación tiene luz y calor gracias al ventanal en uno de los lados. Área social en la planta baja. Medio baño para visitas. Pequeña bodega bajo las gradas de la vivienda. La cocina tiene además al lado, un espacio para las máquinas de lavado y secado de ropa. El comedor de la casa, se comunica con el patio. El patio trasero tiene área dura en cerámica y espacio verde. En la parte delantera de la casa también se cuenta con área verde. Estacionamiento para 2 vehículos. Amplio acceso desde la calle hasta el lugar de la casa. Urbanización con seguridad 24/7. Servicios completos. Áreas verdes muy grandes. Cancha de fútbol, básquet. Pista de bicicross para niños. Huerto comunitario. Punto de recolección de reciclaje (conciencia ecológica) Caminerías y pérgolas con iluminación nocturna\n"
     ]
    }
   ],
   "source": [
    "mask = properties_df['url'] == 'plusvalia.com/propiedades/clasificado/veclcain-venta-casa-en-una-de-las-mejores-urbanizaciones-del-66367428.html'\n",
    "print(properties_df[mask]['description'].values[0])"
   ]
  },
  {
   "cell_type": "code",
   "execution_count": null,
   "metadata": {},
   "outputs": [],
   "source": []
  },
  {
   "cell_type": "code",
   "execution_count": null,
   "metadata": {},
   "outputs": [],
   "source": []
  },
  {
   "cell_type": "code",
   "execution_count": null,
   "metadata": {},
   "outputs": [],
   "source": []
  },
  {
   "cell_type": "code",
   "execution_count": null,
   "metadata": {},
   "outputs": [],
   "source": []
  },
  {
   "cell_type": "code",
   "execution_count": null,
   "metadata": {},
   "outputs": [],
   "source": []
  },
  {
   "cell_type": "code",
   "execution_count": null,
   "metadata": {},
   "outputs": [],
   "source": []
  },
  {
   "cell_type": "code",
   "execution_count": null,
   "metadata": {},
   "outputs": [],
   "source": []
  },
  {
   "cell_type": "code",
   "execution_count": null,
   "metadata": {},
   "outputs": [],
   "source": []
  },
  {
   "cell_type": "code",
   "execution_count": null,
   "metadata": {},
   "outputs": [],
   "source": []
  },
  {
   "cell_type": "code",
   "execution_count": null,
   "metadata": {},
   "outputs": [],
   "source": []
  },
  {
   "cell_type": "code",
   "execution_count": null,
   "metadata": {},
   "outputs": [],
   "source": []
  },
  {
   "cell_type": "code",
   "execution_count": null,
   "metadata": {},
   "outputs": [],
   "source": []
  },
  {
   "cell_type": "code",
   "execution_count": null,
   "metadata": {},
   "outputs": [],
   "source": []
  },
  {
   "cell_type": "code",
   "execution_count": null,
   "metadata": {},
   "outputs": [],
   "source": []
  },
  {
   "cell_type": "code",
   "execution_count": null,
   "metadata": {},
   "outputs": [],
   "source": []
  },
  {
   "cell_type": "code",
   "execution_count": null,
   "metadata": {},
   "outputs": [],
   "source": []
  },
  {
   "cell_type": "code",
   "execution_count": null,
   "metadata": {},
   "outputs": [],
   "source": []
  },
  {
   "cell_type": "code",
   "execution_count": null,
   "metadata": {},
   "outputs": [],
   "source": []
  },
  {
   "cell_type": "code",
   "execution_count": null,
   "metadata": {},
   "outputs": [],
   "source": []
  },
  {
   "cell_type": "code",
   "execution_count": null,
   "metadata": {},
   "outputs": [],
   "source": []
  },
  {
   "cell_type": "code",
   "execution_count": null,
   "metadata": {},
   "outputs": [],
   "source": []
  },
  {
   "cell_type": "code",
   "execution_count": null,
   "metadata": {},
   "outputs": [],
   "source": []
  },
  {
   "cell_type": "code",
   "execution_count": null,
   "metadata": {},
   "outputs": [],
   "source": []
  },
  {
   "cell_type": "code",
   "execution_count": null,
   "metadata": {},
   "outputs": [],
   "source": []
  },
  {
   "cell_type": "code",
   "execution_count": null,
   "metadata": {},
   "outputs": [],
   "source": []
  },
  {
   "cell_type": "code",
   "execution_count": null,
   "metadata": {},
   "outputs": [],
   "source": []
  },
  {
   "cell_type": "code",
   "execution_count": null,
   "metadata": {},
   "outputs": [],
   "source": []
  },
  {
   "cell_type": "code",
   "execution_count": null,
   "metadata": {},
   "outputs": [],
   "source": []
  },
  {
   "cell_type": "code",
   "execution_count": null,
   "metadata": {},
   "outputs": [],
   "source": []
  },
  {
   "cell_type": "code",
   "execution_count": null,
   "metadata": {},
   "outputs": [],
   "source": []
  },
  {
   "cell_type": "code",
   "execution_count": null,
   "metadata": {},
   "outputs": [],
   "source": []
  },
  {
   "cell_type": "code",
   "execution_count": null,
   "metadata": {},
   "outputs": [],
   "source": []
  },
  {
   "cell_type": "code",
   "execution_count": null,
   "metadata": {},
   "outputs": [],
   "source": []
  },
  {
   "cell_type": "code",
   "execution_count": null,
   "metadata": {},
   "outputs": [],
   "source": []
  },
  {
   "cell_type": "code",
   "execution_count": null,
   "metadata": {},
   "outputs": [],
   "source": []
  },
  {
   "cell_type": "code",
   "execution_count": null,
   "metadata": {},
   "outputs": [],
   "source": []
  },
  {
   "cell_type": "code",
   "execution_count": null,
   "metadata": {},
   "outputs": [],
   "source": []
  },
  {
   "cell_type": "code",
   "execution_count": null,
   "metadata": {},
   "outputs": [],
   "source": []
  },
  {
   "cell_type": "code",
   "execution_count": null,
   "metadata": {},
   "outputs": [],
   "source": []
  },
  {
   "cell_type": "code",
   "execution_count": null,
   "metadata": {},
   "outputs": [],
   "source": []
  },
  {
   "cell_type": "code",
   "execution_count": null,
   "metadata": {},
   "outputs": [],
   "source": []
  },
  {
   "cell_type": "code",
   "execution_count": null,
   "metadata": {},
   "outputs": [],
   "source": []
  },
  {
   "cell_type": "code",
   "execution_count": null,
   "metadata": {},
   "outputs": [],
   "source": []
  },
  {
   "cell_type": "code",
   "execution_count": null,
   "metadata": {},
   "outputs": [],
   "source": []
  },
  {
   "cell_type": "code",
   "execution_count": null,
   "metadata": {},
   "outputs": [],
   "source": []
  },
  {
   "cell_type": "code",
   "execution_count": null,
   "metadata": {},
   "outputs": [],
   "source": []
  },
  {
   "cell_type": "code",
   "execution_count": null,
   "metadata": {},
   "outputs": [],
   "source": []
  },
  {
   "cell_type": "code",
   "execution_count": 87,
   "metadata": {},
   "outputs": [
    {
     "data": {
      "text/plain": [
       "page             48\n",
       "location         48\n",
       "neighborhood     48\n",
       "area             48\n",
       "price            48\n",
       "fee              48\n",
       "bedrooms         48\n",
       "bathrooms        48\n",
       "parking_spots    48\n",
       "description      48\n",
       "url              48\n",
       "dtype: int64"
      ]
     },
     "execution_count": 87,
     "metadata": {},
     "output_type": "execute_result"
    }
   ],
   "source": [
    "properties_df = properties_df[properties_df['page'] < 14]\n",
    "duplicates = properties_df[properties_df.loc[:, 'location':].duplicated()]\n",
    "duplicates.count()"
   ]
  },
  {
   "cell_type": "code",
   "execution_count": 89,
   "metadata": {},
   "outputs": [
    {
     "data": {
      "text/html": [
       "<div>\n",
       "<style scoped>\n",
       "    .dataframe tbody tr th:only-of-type {\n",
       "        vertical-align: middle;\n",
       "    }\n",
       "\n",
       "    .dataframe tbody tr th {\n",
       "        vertical-align: top;\n",
       "    }\n",
       "\n",
       "    .dataframe thead th {\n",
       "        text-align: right;\n",
       "    }\n",
       "</style>\n",
       "<table border=\"1\" class=\"dataframe\">\n",
       "  <thead>\n",
       "    <tr style=\"text-align: right;\">\n",
       "      <th></th>\n",
       "      <th>page</th>\n",
       "      <th>location</th>\n",
       "      <th>neighborhood</th>\n",
       "      <th>area</th>\n",
       "      <th>price</th>\n",
       "      <th>fee</th>\n",
       "      <th>bedrooms</th>\n",
       "      <th>bathrooms</th>\n",
       "      <th>parking_spots</th>\n",
       "      <th>description</th>\n",
       "      <th>url</th>\n",
       "    </tr>\n",
       "  </thead>\n",
       "  <tbody>\n",
       "    <tr>\n",
       "      <th>109</th>\n",
       "      <td>4</td>\n",
       "      <td>Urbanización El Condado</td>\n",
       "      <td>N/A</td>\n",
       "      <td>122 m² tot.</td>\n",
       "      <td>USD 129.900</td>\n",
       "      <td>N/A</td>\n",
       "      <td>2 baños</td>\n",
       "      <td>2 estac.</td>\n",
       "      <td>N/A</td>\n",
       "      <td>N/A</td>\n",
       "      <td>plusvalia.comN/A</td>\n",
       "    </tr>\n",
       "    <tr>\n",
       "      <th>152</th>\n",
       "      <td>6</td>\n",
       "      <td>Urbanización El Condado</td>\n",
       "      <td>El Condado, Quito</td>\n",
       "      <td>122 m² tot.</td>\n",
       "      <td>USD 129.900</td>\n",
       "      <td>USD 145 Alícuota</td>\n",
       "      <td>2 baños</td>\n",
       "      <td>2 estac.</td>\n",
       "      <td>N/A</td>\n",
       "      <td>¡excelente oportunidad! En la Urb. El Condado ...</td>\n",
       "      <td>plusvalia.com/propiedades/clasificado/veclapin...</td>\n",
       "    </tr>\n",
       "    <tr>\n",
       "      <th>325</th>\n",
       "      <td>11</td>\n",
       "      <td>Urbanización El Condado</td>\n",
       "      <td>N/A</td>\n",
       "      <td>188 m² tot.</td>\n",
       "      <td>USD 155.000</td>\n",
       "      <td>N/A</td>\n",
       "      <td>3 hab.</td>\n",
       "      <td>2 estac.</td>\n",
       "      <td>N/A</td>\n",
       "      <td>N/A</td>\n",
       "      <td>plusvalia.comN/A</td>\n",
       "    </tr>\n",
       "    <tr>\n",
       "      <th>348</th>\n",
       "      <td>12</td>\n",
       "      <td>Urbanización El Condado</td>\n",
       "      <td>N/A</td>\n",
       "      <td>356 m² tot.</td>\n",
       "      <td>USD 264.900</td>\n",
       "      <td>N/A</td>\n",
       "      <td>4 hab.</td>\n",
       "      <td>4 baños</td>\n",
       "      <td>4 estac.</td>\n",
       "      <td>N/A</td>\n",
       "      <td>plusvalia.comN/A</td>\n",
       "    </tr>\n",
       "  </tbody>\n",
       "</table>\n",
       "</div>"
      ],
      "text/plain": [
       "     page                 location       neighborhood         area  \\\n",
       "109     4  Urbanización El Condado                N/A  122 m² tot.   \n",
       "152     6  Urbanización El Condado  El Condado, Quito  122 m² tot.   \n",
       "325    11  Urbanización El Condado                N/A  188 m² tot.   \n",
       "348    12  Urbanización El Condado                N/A  356 m² tot.   \n",
       "\n",
       "           price               fee bedrooms bathrooms parking_spots  \\\n",
       "109  USD 129.900               N/A  2 baños  2 estac.           N/A   \n",
       "152  USD 129.900  USD 145 Alícuota  2 baños  2 estac.           N/A   \n",
       "325  USD 155.000               N/A   3 hab.  2 estac.           N/A   \n",
       "348  USD 264.900               N/A   4 hab.   4 baños      4 estac.   \n",
       "\n",
       "                                           description  \\\n",
       "109                                                N/A   \n",
       "152  ¡excelente oportunidad! En la Urb. El Condado ...   \n",
       "325                                                N/A   \n",
       "348                                                N/A   \n",
       "\n",
       "                                                   url  \n",
       "109                                   plusvalia.comN/A  \n",
       "152  plusvalia.com/propiedades/clasificado/veclapin...  \n",
       "325                                   plusvalia.comN/A  \n",
       "348                                   plusvalia.comN/A  "
      ]
     },
     "execution_count": 89,
     "metadata": {},
     "output_type": "execute_result"
    }
   ],
   "source": [
    "properties_df['location'].describe()\n",
    "properties_df[properties_df['location'] == 'Urbanización El Condado']"
   ]
  },
  {
   "cell_type": "code",
   "execution_count": 90,
   "metadata": {},
   "outputs": [
    {
     "data": {
      "text/html": [
       "<div>\n",
       "<style scoped>\n",
       "    .dataframe tbody tr th:only-of-type {\n",
       "        vertical-align: middle;\n",
       "    }\n",
       "\n",
       "    .dataframe tbody tr th {\n",
       "        vertical-align: top;\n",
       "    }\n",
       "\n",
       "    .dataframe thead th {\n",
       "        text-align: right;\n",
       "    }\n",
       "</style>\n",
       "<table border=\"1\" class=\"dataframe\">\n",
       "  <thead>\n",
       "    <tr style=\"text-align: right;\">\n",
       "      <th></th>\n",
       "      <th>page</th>\n",
       "      <th>location</th>\n",
       "      <th>neighborhood</th>\n",
       "      <th>area</th>\n",
       "      <th>price</th>\n",
       "      <th>fee</th>\n",
       "      <th>bedrooms</th>\n",
       "      <th>bathrooms</th>\n",
       "      <th>parking_spots</th>\n",
       "      <th>description</th>\n",
       "      <th>url</th>\n",
       "    </tr>\n",
       "  </thead>\n",
       "  <tbody>\n",
       "  </tbody>\n",
       "</table>\n",
       "</div>"
      ],
      "text/plain": [
       "Empty DataFrame\n",
       "Columns: [page, location, neighborhood, area, price, fee, bedrooms, bathrooms, parking_spots, description, url]\n",
       "Index: []"
      ]
     },
     "execution_count": 90,
     "metadata": {},
     "output_type": "execute_result"
    }
   ],
   "source": [
    "duplicates[duplicates['location'] == 'Urbanización El Condado']"
   ]
  },
  {
   "cell_type": "code",
   "execution_count": null,
   "metadata": {},
   "outputs": [],
   "source": []
  },
  {
   "cell_type": "code",
   "execution_count": null,
   "metadata": {},
   "outputs": [],
   "source": []
  },
  {
   "cell_type": "code",
   "execution_count": null,
   "metadata": {},
   "outputs": [],
   "source": [
    "duplicates"
   ]
  },
  {
   "cell_type": "code",
   "execution_count": null,
   "metadata": {},
   "outputs": [],
   "source": []
  },
  {
   "cell_type": "code",
   "execution_count": null,
   "metadata": {},
   "outputs": [],
   "source": []
  },
  {
   "cell_type": "code",
   "execution_count": null,
   "metadata": {},
   "outputs": [],
   "source": []
  },
  {
   "cell_type": "code",
   "execution_count": null,
   "metadata": {},
   "outputs": [],
   "source": []
  },
  {
   "cell_type": "code",
   "execution_count": null,
   "metadata": {},
   "outputs": [],
   "source": []
  },
  {
   "cell_type": "code",
   "execution_count": null,
   "metadata": {},
   "outputs": [],
   "source": []
  },
  {
   "cell_type": "code",
   "execution_count": null,
   "metadata": {},
   "outputs": [],
   "source": []
  },
  {
   "cell_type": "code",
   "execution_count": null,
   "metadata": {},
   "outputs": [],
   "source": []
  },
  {
   "cell_type": "code",
   "execution_count": 74,
   "metadata": {},
   "outputs": [
    {
     "data": {
      "text/html": [
       "<div>\n",
       "<style scoped>\n",
       "    .dataframe tbody tr th:only-of-type {\n",
       "        vertical-align: middle;\n",
       "    }\n",
       "\n",
       "    .dataframe tbody tr th {\n",
       "        vertical-align: top;\n",
       "    }\n",
       "\n",
       "    .dataframe thead th {\n",
       "        text-align: right;\n",
       "    }\n",
       "</style>\n",
       "<table border=\"1\" class=\"dataframe\">\n",
       "  <thead>\n",
       "    <tr style=\"text-align: right;\">\n",
       "      <th></th>\n",
       "      <th>page</th>\n",
       "      <th>location</th>\n",
       "      <th>neighborhood</th>\n",
       "      <th>area</th>\n",
       "      <th>price</th>\n",
       "      <th>fee</th>\n",
       "      <th>bedrooms</th>\n",
       "      <th>bathrooms</th>\n",
       "      <th>parking_spots</th>\n",
       "      <th>description</th>\n",
       "      <th>url</th>\n",
       "    </tr>\n",
       "  </thead>\n",
       "  <tbody>\n",
       "    <tr>\n",
       "      <th>32</th>\n",
       "      <td>2</td>\n",
       "      <td>cashapamba</td>\n",
       "      <td>Sangolqui, Quito</td>\n",
       "      <td>2345 m² tot.</td>\n",
       "      <td>USD 258.000</td>\n",
       "      <td>USD 20 Alícuota</td>\n",
       "      <td>2 hab.</td>\n",
       "      <td>3 baños</td>\n",
       "      <td>6 estac.</td>\n",
       "      <td>Linda quinta terreno 2345m2 dentro de conjunto...</td>\n",
       "      <td>plusvalia.com/propiedades/clasificado/veclhqin...</td>\n",
       "    </tr>\n",
       "  </tbody>\n",
       "</table>\n",
       "</div>"
      ],
      "text/plain": [
       "    page    location      neighborhood          area        price  \\\n",
       "32     2  cashapamba  Sangolqui, Quito  2345 m² tot.  USD 258.000   \n",
       "\n",
       "                fee bedrooms bathrooms parking_spots  \\\n",
       "32  USD 20 Alícuota   2 hab.   3 baños      6 estac.   \n",
       "\n",
       "                                          description  \\\n",
       "32  Linda quinta terreno 2345m2 dentro de conjunto...   \n",
       "\n",
       "                                                  url  \n",
       "32  plusvalia.com/propiedades/clasificado/veclhqin...  "
      ]
     },
     "execution_count": 74,
     "metadata": {},
     "output_type": "execute_result"
    }
   ],
   "source": [
    "duplicates[duplicates['location'] == 'cashapamba']"
   ]
  },
  {
   "cell_type": "code",
   "execution_count": null,
   "metadata": {},
   "outputs": [],
   "source": []
  },
  {
   "cell_type": "code",
   "execution_count": null,
   "metadata": {},
   "outputs": [],
   "source": []
  },
  {
   "cell_type": "code",
   "execution_count": null,
   "metadata": {},
   "outputs": [],
   "source": []
  },
  {
   "cell_type": "code",
   "execution_count": null,
   "metadata": {},
   "outputs": [],
   "source": []
  },
  {
   "cell_type": "code",
   "execution_count": null,
   "metadata": {},
   "outputs": [],
   "source": []
  },
  {
   "cell_type": "code",
   "execution_count": null,
   "metadata": {},
   "outputs": [],
   "source": []
  },
  {
   "cell_type": "code",
   "execution_count": null,
   "metadata": {},
   "outputs": [],
   "source": []
  },
  {
   "cell_type": "code",
   "execution_count": null,
   "metadata": {},
   "outputs": [],
   "source": []
  },
  {
   "cell_type": "code",
   "execution_count": null,
   "metadata": {},
   "outputs": [],
   "source": []
  },
  {
   "cell_type": "code",
   "execution_count": null,
   "metadata": {},
   "outputs": [],
   "source": []
  },
  {
   "cell_type": "code",
   "execution_count": null,
   "metadata": {},
   "outputs": [],
   "source": []
  },
  {
   "cell_type": "code",
   "execution_count": null,
   "metadata": {},
   "outputs": [],
   "source": []
  },
  {
   "cell_type": "code",
   "execution_count": null,
   "metadata": {},
   "outputs": [],
   "source": []
  },
  {
   "cell_type": "code",
   "execution_count": 60,
   "metadata": {},
   "outputs": [
    {
     "data": {
      "text/html": [
       "<div>\n",
       "<style scoped>\n",
       "    .dataframe tbody tr th:only-of-type {\n",
       "        vertical-align: middle;\n",
       "    }\n",
       "\n",
       "    .dataframe tbody tr th {\n",
       "        vertical-align: top;\n",
       "    }\n",
       "\n",
       "    .dataframe thead th {\n",
       "        text-align: right;\n",
       "    }\n",
       "</style>\n",
       "<table border=\"1\" class=\"dataframe\">\n",
       "  <thead>\n",
       "    <tr style=\"text-align: right;\">\n",
       "      <th></th>\n",
       "      <th>page</th>\n",
       "      <th>location</th>\n",
       "      <th>neighborhood</th>\n",
       "      <th>area</th>\n",
       "      <th>price</th>\n",
       "      <th>fee</th>\n",
       "      <th>bedrooms</th>\n",
       "      <th>bathrooms</th>\n",
       "      <th>parking_spots</th>\n",
       "      <th>description</th>\n",
       "      <th>url</th>\n",
       "    </tr>\n",
       "  </thead>\n",
       "  <tbody>\n",
       "    <tr>\n",
       "      <th>408</th>\n",
       "      <td>16</td>\n",
       "      <td>Ponceano</td>\n",
       "      <td>N/A</td>\n",
       "      <td>115 m² tot.</td>\n",
       "      <td>USD 87.000</td>\n",
       "      <td>N/A</td>\n",
       "      <td>3 hab.</td>\n",
       "      <td>2 baños</td>\n",
       "      <td>2 estac.</td>\n",
       "      <td>N/A</td>\n",
       "      <td>plusvalia.comN/A</td>\n",
       "    </tr>\n",
       "    <tr>\n",
       "      <th>409</th>\n",
       "      <td>16</td>\n",
       "      <td>moran</td>\n",
       "      <td>N/A</td>\n",
       "      <td>130 m² tot.</td>\n",
       "      <td>USD 47.000</td>\n",
       "      <td>N/A</td>\n",
       "      <td>3 hab.</td>\n",
       "      <td>2 baños</td>\n",
       "      <td>1 estac.</td>\n",
       "      <td>N/A</td>\n",
       "      <td>plusvalia.comN/A</td>\n",
       "    </tr>\n",
       "    <tr>\n",
       "      <th>410</th>\n",
       "      <td>16</td>\n",
       "      <td>Calderón Av. Carlos Mantilla</td>\n",
       "      <td>N/A</td>\n",
       "      <td>140 m² tot.</td>\n",
       "      <td>USD 50.000</td>\n",
       "      <td>N/A</td>\n",
       "      <td>3 hab.</td>\n",
       "      <td>2 baños</td>\n",
       "      <td>1 estac.</td>\n",
       "      <td>N/A</td>\n",
       "      <td>plusvalia.comN/A</td>\n",
       "    </tr>\n",
       "    <tr>\n",
       "      <th>411</th>\n",
       "      <td>16</td>\n",
       "      <td>Eloy Alfaro y Gaspar de Villarroel</td>\n",
       "      <td>N/A</td>\n",
       "      <td>400 m² tot.</td>\n",
       "      <td>USD 200.000</td>\n",
       "      <td>N/A</td>\n",
       "      <td>4 hab.</td>\n",
       "      <td>4 baños</td>\n",
       "      <td>2 estac.</td>\n",
       "      <td>N/A</td>\n",
       "      <td>plusvalia.comN/A</td>\n",
       "    </tr>\n",
       "    <tr>\n",
       "      <th>412</th>\n",
       "      <td>16</td>\n",
       "      <td>calle de entrada a Llano Grande García Moreno ...</td>\n",
       "      <td>N/A</td>\n",
       "      <td>126 m² tot.</td>\n",
       "      <td>USD 47.000</td>\n",
       "      <td>N/A</td>\n",
       "      <td>4 hab.</td>\n",
       "      <td>3 baños</td>\n",
       "      <td>1 estac.</td>\n",
       "      <td>N/A</td>\n",
       "      <td>plusvalia.comN/A</td>\n",
       "    </tr>\n",
       "    <tr>\n",
       "      <th>413</th>\n",
       "      <td>16</td>\n",
       "      <td>Santa Eulalia</td>\n",
       "      <td>N/A</td>\n",
       "      <td>2078 m² tot.</td>\n",
       "      <td>USD 78.900</td>\n",
       "      <td>N/A</td>\n",
       "      <td>N/A</td>\n",
       "      <td>N/A</td>\n",
       "      <td>N/A</td>\n",
       "      <td>N/A</td>\n",
       "      <td>plusvalia.comN/A</td>\n",
       "    </tr>\n",
       "    <tr>\n",
       "      <th>414</th>\n",
       "      <td>16</td>\n",
       "      <td>Pomasqui</td>\n",
       "      <td>N/A</td>\n",
       "      <td>120 m² tot.</td>\n",
       "      <td>USD 105.000</td>\n",
       "      <td>N/A</td>\n",
       "      <td>3 hab.</td>\n",
       "      <td>2 baños</td>\n",
       "      <td>2 estac.</td>\n",
       "      <td>N/A</td>\n",
       "      <td>plusvalia.comN/A</td>\n",
       "    </tr>\n",
       "    <tr>\n",
       "      <th>415</th>\n",
       "      <td>16</td>\n",
       "      <td>republica y pradera</td>\n",
       "      <td>N/A</td>\n",
       "      <td>135 m² tot.</td>\n",
       "      <td>USD 79.000</td>\n",
       "      <td>N/A</td>\n",
       "      <td>2 hab.</td>\n",
       "      <td>3 baños</td>\n",
       "      <td>1 estac.</td>\n",
       "      <td>N/A</td>\n",
       "      <td>plusvalia.comN/A</td>\n",
       "    </tr>\n",
       "    <tr>\n",
       "      <th>416</th>\n",
       "      <td>16</td>\n",
       "      <td>N12 BENJAMIN CARRION - E9-</td>\n",
       "      <td>N/A</td>\n",
       "      <td>267 m² tot.</td>\n",
       "      <td>USD 99.000</td>\n",
       "      <td>N/A</td>\n",
       "      <td>3 hab.</td>\n",
       "      <td>3 baños</td>\n",
       "      <td>2 estac.</td>\n",
       "      <td>N/A</td>\n",
       "      <td>plusvalia.comN/A</td>\n",
       "    </tr>\n",
       "    <tr>\n",
       "      <th>417</th>\n",
       "      <td>16</td>\n",
       "      <td>Alangasi</td>\n",
       "      <td>N/A</td>\n",
       "      <td>763 m² tot.</td>\n",
       "      <td>USD 290.000</td>\n",
       "      <td>N/A</td>\n",
       "      <td>4 hab.</td>\n",
       "      <td>7 baños</td>\n",
       "      <td>5 estac.</td>\n",
       "      <td>N/A</td>\n",
       "      <td>plusvalia.comN/A</td>\n",
       "    </tr>\n",
       "    <tr>\n",
       "      <th>418</th>\n",
       "      <td>16</td>\n",
       "      <td>Calderón</td>\n",
       "      <td>N/A</td>\n",
       "      <td>180 m² tot.</td>\n",
       "      <td>USD 350</td>\n",
       "      <td>N/A</td>\n",
       "      <td>3 hab.</td>\n",
       "      <td>2 baños</td>\n",
       "      <td>1 estac.</td>\n",
       "      <td>N/A</td>\n",
       "      <td>plusvalia.comN/A</td>\n",
       "    </tr>\n",
       "    <tr>\n",
       "      <th>419</th>\n",
       "      <td>16</td>\n",
       "      <td>Cárcelen</td>\n",
       "      <td>N/A</td>\n",
       "      <td>199 m² tot.</td>\n",
       "      <td>USD 123.000</td>\n",
       "      <td>N/A</td>\n",
       "      <td>3 hab.</td>\n",
       "      <td>2 baños</td>\n",
       "      <td>2 estac.</td>\n",
       "      <td>N/A</td>\n",
       "      <td>plusvalia.comN/A</td>\n",
       "    </tr>\n",
       "    <tr>\n",
       "      <th>420</th>\n",
       "      <td>16</td>\n",
       "      <td>vicente aguirre y ulloa</td>\n",
       "      <td>N/A</td>\n",
       "      <td>117 m² tot.</td>\n",
       "      <td>USD 87.000</td>\n",
       "      <td>N/A</td>\n",
       "      <td>3 hab.</td>\n",
       "      <td>2 baños</td>\n",
       "      <td>1 estac.</td>\n",
       "      <td>N/A</td>\n",
       "      <td>plusvalia.comN/A</td>\n",
       "    </tr>\n",
       "    <tr>\n",
       "      <th>421</th>\n",
       "      <td>16</td>\n",
       "      <td>camilo egas</td>\n",
       "      <td>N/A</td>\n",
       "      <td>260 m² tot.</td>\n",
       "      <td>USD 219.000</td>\n",
       "      <td>N/A</td>\n",
       "      <td>4 hab.</td>\n",
       "      <td>3 baños</td>\n",
       "      <td>3 estac.</td>\n",
       "      <td>N/A</td>\n",
       "      <td>plusvalia.comN/A</td>\n",
       "    </tr>\n",
       "    <tr>\n",
       "      <th>422</th>\n",
       "      <td>16</td>\n",
       "      <td>Caspigasi</td>\n",
       "      <td>N/A</td>\n",
       "      <td>3 estac.</td>\n",
       "      <td>USD 110.000</td>\n",
       "      <td>N/A</td>\n",
       "      <td>N/A</td>\n",
       "      <td>N/A</td>\n",
       "      <td>N/A</td>\n",
       "      <td>N/A</td>\n",
       "      <td>plusvalia.comN/A</td>\n",
       "    </tr>\n",
       "    <tr>\n",
       "      <th>423</th>\n",
       "      <td>16</td>\n",
       "      <td>calle Venezuela</td>\n",
       "      <td>N/A</td>\n",
       "      <td>N/A</td>\n",
       "      <td>USD 1.200.000</td>\n",
       "      <td>N/A</td>\n",
       "      <td>N/A</td>\n",
       "      <td>N/A</td>\n",
       "      <td>N/A</td>\n",
       "      <td>N/A</td>\n",
       "      <td>plusvalia.comN/A</td>\n",
       "    </tr>\n",
       "  </tbody>\n",
       "</table>\n",
       "</div>"
      ],
      "text/plain": [
       "     page                                           location neighborhood  \\\n",
       "408    16                                           Ponceano          N/A   \n",
       "409    16                                              moran          N/A   \n",
       "410    16                       Calderón Av. Carlos Mantilla          N/A   \n",
       "411    16                 Eloy Alfaro y Gaspar de Villarroel          N/A   \n",
       "412    16  calle de entrada a Llano Grande García Moreno ...          N/A   \n",
       "413    16                                      Santa Eulalia          N/A   \n",
       "414    16                                           Pomasqui          N/A   \n",
       "415    16                                republica y pradera          N/A   \n",
       "416    16                         N12 BENJAMIN CARRION - E9-          N/A   \n",
       "417    16                                           Alangasi          N/A   \n",
       "418    16                                           Calderón          N/A   \n",
       "419    16                                           Cárcelen          N/A   \n",
       "420    16                            vicente aguirre y ulloa          N/A   \n",
       "421    16                                        camilo egas          N/A   \n",
       "422    16                                          Caspigasi          N/A   \n",
       "423    16                                    calle Venezuela          N/A   \n",
       "\n",
       "             area          price  fee bedrooms bathrooms parking_spots  \\\n",
       "408   115 m² tot.     USD 87.000  N/A   3 hab.   2 baños      2 estac.   \n",
       "409   130 m² tot.     USD 47.000  N/A   3 hab.   2 baños      1 estac.   \n",
       "410   140 m² tot.     USD 50.000  N/A   3 hab.   2 baños      1 estac.   \n",
       "411   400 m² tot.    USD 200.000  N/A   4 hab.   4 baños      2 estac.   \n",
       "412   126 m² tot.     USD 47.000  N/A   4 hab.   3 baños      1 estac.   \n",
       "413  2078 m² tot.     USD 78.900  N/A      N/A       N/A           N/A   \n",
       "414   120 m² tot.    USD 105.000  N/A   3 hab.   2 baños      2 estac.   \n",
       "415   135 m² tot.     USD 79.000  N/A   2 hab.   3 baños      1 estac.   \n",
       "416   267 m² tot.     USD 99.000  N/A   3 hab.   3 baños      2 estac.   \n",
       "417   763 m² tot.    USD 290.000  N/A   4 hab.   7 baños      5 estac.   \n",
       "418   180 m² tot.        USD 350  N/A   3 hab.   2 baños      1 estac.   \n",
       "419   199 m² tot.    USD 123.000  N/A   3 hab.   2 baños      2 estac.   \n",
       "420   117 m² tot.     USD 87.000  N/A   3 hab.   2 baños      1 estac.   \n",
       "421   260 m² tot.    USD 219.000  N/A   4 hab.   3 baños      3 estac.   \n",
       "422      3 estac.    USD 110.000  N/A      N/A       N/A           N/A   \n",
       "423           N/A  USD 1.200.000  N/A      N/A       N/A           N/A   \n",
       "\n",
       "    description               url  \n",
       "408         N/A  plusvalia.comN/A  \n",
       "409         N/A  plusvalia.comN/A  \n",
       "410         N/A  plusvalia.comN/A  \n",
       "411         N/A  plusvalia.comN/A  \n",
       "412         N/A  plusvalia.comN/A  \n",
       "413         N/A  plusvalia.comN/A  \n",
       "414         N/A  plusvalia.comN/A  \n",
       "415         N/A  plusvalia.comN/A  \n",
       "416         N/A  plusvalia.comN/A  \n",
       "417         N/A  plusvalia.comN/A  \n",
       "418         N/A  plusvalia.comN/A  \n",
       "419         N/A  plusvalia.comN/A  \n",
       "420         N/A  plusvalia.comN/A  \n",
       "421         N/A  plusvalia.comN/A  \n",
       "422         N/A  plusvalia.comN/A  \n",
       "423         N/A  plusvalia.comN/A  "
      ]
     },
     "execution_count": 60,
     "metadata": {},
     "output_type": "execute_result"
    }
   ],
   "source": [
    "\n"
   ]
  },
  {
   "cell_type": "code",
   "execution_count": null,
   "metadata": {},
   "outputs": [],
   "source": []
  },
  {
   "cell_type": "code",
   "execution_count": null,
   "metadata": {},
   "outputs": [],
   "source": []
  },
  {
   "cell_type": "code",
   "execution_count": null,
   "metadata": {},
   "outputs": [],
   "source": []
  },
  {
   "cell_type": "code",
   "execution_count": null,
   "metadata": {},
   "outputs": [],
   "source": []
  },
  {
   "cell_type": "code",
   "execution_count": null,
   "metadata": {},
   "outputs": [],
   "source": []
  },
  {
   "cell_type": "code",
   "execution_count": null,
   "metadata": {},
   "outputs": [],
   "source": []
  },
  {
   "cell_type": "code",
   "execution_count": null,
   "metadata": {},
   "outputs": [],
   "source": []
  },
  {
   "cell_type": "code",
   "execution_count": null,
   "metadata": {},
   "outputs": [],
   "source": []
  },
  {
   "cell_type": "code",
   "execution_count": null,
   "metadata": {},
   "outputs": [],
   "source": []
  },
  {
   "cell_type": "code",
   "execution_count": null,
   "metadata": {},
   "outputs": [],
   "source": []
  },
  {
   "cell_type": "code",
   "execution_count": null,
   "metadata": {},
   "outputs": [],
   "source": []
  },
  {
   "cell_type": "code",
   "execution_count": null,
   "metadata": {},
   "outputs": [],
   "source": []
  },
  {
   "cell_type": "code",
   "execution_count": null,
   "metadata": {},
   "outputs": [],
   "source": []
  },
  {
   "cell_type": "code",
   "execution_count": null,
   "metadata": {},
   "outputs": [],
   "source": []
  },
  {
   "cell_type": "code",
   "execution_count": null,
   "metadata": {},
   "outputs": [],
   "source": []
  },
  {
   "cell_type": "code",
   "execution_count": null,
   "metadata": {},
   "outputs": [],
   "source": []
  },
  {
   "cell_type": "code",
   "execution_count": null,
   "metadata": {},
   "outputs": [],
   "source": []
  },
  {
   "cell_type": "code",
   "execution_count": null,
   "metadata": {},
   "outputs": [],
   "source": []
  },
  {
   "cell_type": "code",
   "execution_count": null,
   "metadata": {},
   "outputs": [],
   "source": []
  },
  {
   "cell_type": "code",
   "execution_count": null,
   "metadata": {},
   "outputs": [],
   "source": []
  },
  {
   "cell_type": "code",
   "execution_count": null,
   "metadata": {},
   "outputs": [],
   "source": []
  },
  {
   "cell_type": "code",
   "execution_count": null,
   "metadata": {},
   "outputs": [],
   "source": []
  },
  {
   "cell_type": "code",
   "execution_count": 37,
   "metadata": {},
   "outputs": [
    {
     "data": {
      "text/html": [
       "<div>\n",
       "<style scoped>\n",
       "    .dataframe tbody tr th:only-of-type {\n",
       "        vertical-align: middle;\n",
       "    }\n",
       "\n",
       "    .dataframe tbody tr th {\n",
       "        vertical-align: top;\n",
       "    }\n",
       "\n",
       "    .dataframe thead th {\n",
       "        text-align: right;\n",
       "    }\n",
       "</style>\n",
       "<table border=\"1\" class=\"dataframe\">\n",
       "  <thead>\n",
       "    <tr style=\"text-align: right;\">\n",
       "      <th></th>\n",
       "      <th>page</th>\n",
       "      <th>location</th>\n",
       "      <th>neighborhood</th>\n",
       "      <th>area</th>\n",
       "      <th>price</th>\n",
       "      <th>fee</th>\n",
       "      <th>bedrooms</th>\n",
       "      <th>bathrooms</th>\n",
       "      <th>parking_spots</th>\n",
       "      <th>description</th>\n",
       "      <th>url</th>\n",
       "    </tr>\n",
       "  </thead>\n",
       "  <tbody>\n",
       "    <tr>\n",
       "      <th>31</th>\n",
       "      <td>2</td>\n",
       "      <td>Gonzalez Súarez</td>\n",
       "      <td>González Suárez, Quito</td>\n",
       "      <td>344 m² tot.</td>\n",
       "      <td>USD 2.262</td>\n",
       "      <td>USD 1 Alícuota</td>\n",
       "      <td>3 hab.</td>\n",
       "      <td>4 baños</td>\n",
       "      <td>4 estac.</td>\n",
       "      <td>Valor renta $2262, 00 (incluye alícuota) Depar...</td>\n",
       "      <td>plusvalia.com/propiedades/clasificado/alclapin...</td>\n",
       "    </tr>\n",
       "  </tbody>\n",
       "</table>\n",
       "</div>"
      ],
      "text/plain": [
       "    page         location            neighborhood         area      price  \\\n",
       "31     2  Gonzalez Súarez  González Suárez, Quito  344 m² tot.  USD 2.262   \n",
       "\n",
       "               fee bedrooms bathrooms parking_spots  \\\n",
       "31  USD 1 Alícuota   3 hab.   4 baños      4 estac.   \n",
       "\n",
       "                                          description  \\\n",
       "31  Valor renta $2262, 00 (incluye alícuota) Depar...   \n",
       "\n",
       "                                                  url  \n",
       "31  plusvalia.com/propiedades/clasificado/alclapin...  "
      ]
     },
     "execution_count": 37,
     "metadata": {},
     "output_type": "execute_result"
    }
   ],
   "source": []
  },
  {
   "cell_type": "code",
   "execution_count": null,
   "metadata": {},
   "outputs": [],
   "source": []
  },
  {
   "cell_type": "code",
   "execution_count": null,
   "metadata": {},
   "outputs": [],
   "source": []
  },
  {
   "cell_type": "code",
   "execution_count": null,
   "metadata": {},
   "outputs": [],
   "source": []
  },
  {
   "cell_type": "code",
   "execution_count": null,
   "metadata": {},
   "outputs": [],
   "source": []
  },
  {
   "cell_type": "code",
   "execution_count": null,
   "metadata": {},
   "outputs": [],
   "source": []
  },
  {
   "cell_type": "code",
   "execution_count": null,
   "metadata": {},
   "outputs": [],
   "source": []
  },
  {
   "cell_type": "code",
   "execution_count": null,
   "metadata": {},
   "outputs": [],
   "source": []
  },
  {
   "cell_type": "code",
   "execution_count": null,
   "metadata": {},
   "outputs": [],
   "source": []
  },
  {
   "cell_type": "code",
   "execution_count": null,
   "metadata": {},
   "outputs": [],
   "source": []
  },
  {
   "cell_type": "code",
   "execution_count": null,
   "metadata": {},
   "outputs": [],
   "source": []
  },
  {
   "cell_type": "code",
   "execution_count": null,
   "metadata": {},
   "outputs": [],
   "source": []
  },
  {
   "cell_type": "code",
   "execution_count": null,
   "metadata": {},
   "outputs": [],
   "source": []
  },
  {
   "cell_type": "code",
   "execution_count": null,
   "metadata": {},
   "outputs": [],
   "source": []
  },
  {
   "cell_type": "code",
   "execution_count": 21,
   "metadata": {},
   "outputs": [
    {
     "data": {
      "text/html": [
       "<div>\n",
       "<style scoped>\n",
       "    .dataframe tbody tr th:only-of-type {\n",
       "        vertical-align: middle;\n",
       "    }\n",
       "\n",
       "    .dataframe tbody tr th {\n",
       "        vertical-align: top;\n",
       "    }\n",
       "\n",
       "    .dataframe thead th {\n",
       "        text-align: right;\n",
       "    }\n",
       "</style>\n",
       "<table border=\"1\" class=\"dataframe\">\n",
       "  <thead>\n",
       "    <tr style=\"text-align: right;\">\n",
       "      <th></th>\n",
       "      <th>page</th>\n",
       "      <th>location</th>\n",
       "      <th>neighborhood</th>\n",
       "      <th>area</th>\n",
       "      <th>price</th>\n",
       "      <th>fee</th>\n",
       "      <th>bedrooms</th>\n",
       "      <th>bathrooms</th>\n",
       "      <th>parking_spots</th>\n",
       "      <th>description</th>\n",
       "    </tr>\n",
       "  </thead>\n",
       "  <tbody>\n",
       "    <tr>\n",
       "      <th>149</th>\n",
       "      <td>6</td>\n",
       "      <td>urbanización san rafael</td>\n",
       "      <td>N/A</td>\n",
       "      <td>275 m² tot.</td>\n",
       "      <td>USD 127.500</td>\n",
       "      <td>N/A</td>\n",
       "      <td>3 hab.</td>\n",
       "      <td>2 baños</td>\n",
       "      <td>2 estac.</td>\n",
       "      <td>N/A</td>\n",
       "    </tr>\n",
       "  </tbody>\n",
       "</table>\n",
       "</div>"
      ],
      "text/plain": [
       "     page                 location neighborhood         area        price  \\\n",
       "149     6  urbanización san rafael          N/A  275 m² tot.  USD 127.500   \n",
       "\n",
       "     fee bedrooms bathrooms parking_spots description  \n",
       "149  N/A   3 hab.   2 baños      2 estac.         N/A  "
      ]
     },
     "execution_count": 21,
     "metadata": {},
     "output_type": "execute_result"
    }
   ],
   "source": [
    "property = properties_df[properties_df['price'].str.contains('USD 127.500')]\n",
    "property"
   ]
  },
  {
   "cell_type": "code",
   "execution_count": null,
   "metadata": {},
   "outputs": [],
   "source": []
  },
  {
   "cell_type": "code",
   "execution_count": null,
   "metadata": {},
   "outputs": [],
   "source": []
  },
  {
   "cell_type": "code",
   "execution_count": null,
   "metadata": {},
   "outputs": [],
   "source": []
  },
  {
   "cell_type": "code",
   "execution_count": null,
   "metadata": {},
   "outputs": [],
   "source": []
  },
  {
   "cell_type": "code",
   "execution_count": null,
   "metadata": {},
   "outputs": [],
   "source": []
  },
  {
   "cell_type": "code",
   "execution_count": 16,
   "metadata": {},
   "outputs": [
    {
     "data": {
      "text/plain": [
       "'En el corazón del Valle de los Chillos vendo hermosa casa con amplios y elegantes espacios ideal para distrutarla en familia, esta dentro de urbanización qué tiene áreas verdes, parques, área para patinaje, excelente entorno, clima, ubicación. La casa está distribuida de la siguiente manera: Amplio jardín de entrada. Sala comedor amplios. Cocina con family room. 3 habitaciones amplias con baño completo. 1 habitación máster super amplia con ventanales de pared a techo, closet y walking closet. Todos los muebles son personalizados y funcionales, la casa está domotizada. Área de lavandería. Bodega muy bien dispuesta. Baño completo de servicio. Baño de visitas completo. Piscina temperada con iluminación. Patio área de bbq. Sala familia con mesa de Poker con usb, Bar, baño completo, con acceso directo al jardín y a la piscina. Estacionamiento para 5 vehículos. Un propiedad con mucho estilo. Ideal para usted'"
      ]
     },
     "execution_count": 16,
     "metadata": {},
     "output_type": "execute_result"
    }
   ],
   "source": [
    "property_description = property['description']\n",
    "property_description"
   ]
  },
  {
   "cell_type": "code",
   "execution_count": null,
   "metadata": {},
   "outputs": [],
   "source": []
  },
  {
   "cell_type": "code",
   "execution_count": null,
   "metadata": {},
   "outputs": [],
   "source": []
  },
  {
   "cell_type": "code",
   "execution_count": null,
   "metadata": {},
   "outputs": [],
   "source": []
  },
  {
   "cell_type": "code",
   "execution_count": null,
   "metadata": {},
   "outputs": [],
   "source": []
  },
  {
   "cell_type": "code",
   "execution_count": null,
   "metadata": {},
   "outputs": [],
   "source": []
  },
  {
   "cell_type": "code",
   "execution_count": null,
   "metadata": {},
   "outputs": [],
   "source": []
  },
  {
   "cell_type": "code",
   "execution_count": null,
   "metadata": {},
   "outputs": [],
   "source": []
  },
  {
   "cell_type": "code",
   "execution_count": null,
   "metadata": {},
   "outputs": [],
   "source": []
  },
  {
   "cell_type": "code",
   "execution_count": null,
   "metadata": {},
   "outputs": [],
   "source": []
  },
  {
   "cell_type": "code",
   "execution_count": null,
   "metadata": {},
   "outputs": [],
   "source": []
  }
 ],
 "metadata": {
  "kernelspec": {
   "display_name": "chatbot",
   "language": "python",
   "name": "python3"
  },
  "language_info": {
   "codemirror_mode": {
    "name": "ipython",
    "version": 3
   },
   "file_extension": ".py",
   "mimetype": "text/x-python",
   "name": "python",
   "nbconvert_exporter": "python",
   "pygments_lexer": "ipython3",
   "version": "3.11.7"
  }
 },
 "nbformat": 4,
 "nbformat_minor": 2
}
