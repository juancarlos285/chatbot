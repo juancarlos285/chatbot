{
 "cells": [
  {
   "cell_type": "code",
   "execution_count": 7,
   "metadata": {},
   "outputs": [
    {
     "name": "stdout",
     "output_type": "stream",
     "text": [
      "<class 'pandas.core.frame.DataFrame'>\n",
      "Index: 377 entries, 0 to 376\n",
      "Data columns (total 12 columns):\n",
      " #   Column         Non-Null Count  Dtype \n",
      "---  ------         --------------  ----- \n",
      " 0   page           377 non-null    int64 \n",
      " 1   location       377 non-null    object\n",
      " 2   neighborhood   377 non-null    object\n",
      " 3   area           377 non-null    object\n",
      " 4   price          377 non-null    object\n",
      " 5   fee            377 non-null    object\n",
      " 6   bedrooms       377 non-null    object\n",
      " 7   bathrooms      377 non-null    object\n",
      " 8   parking_spots  377 non-null    object\n",
      " 9   description    377 non-null    object\n",
      " 10  url            377 non-null    object\n",
      " 11  id             377 non-null    int64 \n",
      "dtypes: int64(2), object(10)\n",
      "memory usage: 38.3+ KB\n"
     ]
    }
   ],
   "source": [
    "import pandas as pd\n",
    "import json\n",
    "\n",
    "properties_df = pd.read_json('data/property_listings.json')\n",
    "properties_df.info()   "
   ]
  },
  {
   "cell_type": "code",
   "execution_count": 427,
   "metadata": {},
   "outputs": [
    {
     "data": {
      "text/html": [
       "<div>\n",
       "<style scoped>\n",
       "    .dataframe tbody tr th:only-of-type {\n",
       "        vertical-align: middle;\n",
       "    }\n",
       "\n",
       "    .dataframe tbody tr th {\n",
       "        vertical-align: top;\n",
       "    }\n",
       "\n",
       "    .dataframe thead th {\n",
       "        text-align: right;\n",
       "    }\n",
       "</style>\n",
       "<table border=\"1\" class=\"dataframe\">\n",
       "  <thead>\n",
       "    <tr style=\"text-align: right;\">\n",
       "      <th></th>\n",
       "      <th>query</th>\n",
       "      <th>label</th>\n",
       "    </tr>\n",
       "  </thead>\n",
       "  <tbody>\n",
       "    <tr>\n",
       "      <th>count</th>\n",
       "      <td>30</td>\n",
       "      <td>30</td>\n",
       "    </tr>\n",
       "    <tr>\n",
       "      <th>unique</th>\n",
       "      <td>30</td>\n",
       "      <td>1</td>\n",
       "    </tr>\n",
       "    <tr>\n",
       "      <th>top</th>\n",
       "      <td>Quiero saber el precio de la casa en la calle ...</td>\n",
       "      <td>other</td>\n",
       "    </tr>\n",
       "    <tr>\n",
       "      <th>freq</th>\n",
       "      <td>1</td>\n",
       "      <td>30</td>\n",
       "    </tr>\n",
       "  </tbody>\n",
       "</table>\n",
       "</div>"
      ],
      "text/plain": [
       "                                                    query  label\n",
       "count                                                  30     30\n",
       "unique                                                 30      1\n",
       "top     Quiero saber el precio de la casa en la calle ...  other\n",
       "freq                                                    1     30"
      ]
     },
     "execution_count": 427,
     "metadata": {},
     "output_type": "execute_result"
    }
   ],
   "source": [
    "contact_agent_df = pd.read_csv('data/contact_agent_dataset.csv')\n",
    "test_contact_agent_df = pd.read_csv('data/test_contact_agent.csv')\n",
    "new_data = pd.read_csv('data/new_contact_agent.csv')\n",
    "new_data.describe()\n"
   ]
  },
  {
   "cell_type": "code",
   "execution_count": 422,
   "metadata": {},
   "outputs": [],
   "source": [
    "new_contact_agent = new_data[new_data['label'] == 'contact agent']\n",
    "new_other = new_data[new_data['label'] == 'other']\n",
    "\n",
    "contact_agent_df = pd.merge(contact_agent_df, new_contact_agent[:24], how='outer')\n",
    "contact_agent_df = pd.merge(contact_agent_df, new_other[:24], how='outer')\n",
    "contact_agent_df = contact_agent_df.drop_duplicates()\n",
    "\n",
    "test_contact_agent_df = pd.merge(test_contact_agent_df, new_contact_agent[24:], how='outer')\n",
    "test_contact_agent_df = pd.merge(test_contact_agent_df, new_other[24:], how='outer')\n",
    "test_contact_agent_df = test_contact_agent_df.drop_duplicates()\n",
    "\n",
    "contact_agent_df.to_csv('data/contact_agent_dataset_2.csv', index=False)\n",
    "test_contact_agent_df.to_csv('data/test_contact_agent_2.csv', index=False)"
   ]
  },
  {
   "cell_type": "code",
   "execution_count": 439,
   "metadata": {},
   "outputs": [
    {
     "data": {
      "text/html": [
       "<div>\n",
       "<style scoped>\n",
       "    .dataframe tbody tr th:only-of-type {\n",
       "        vertical-align: middle;\n",
       "    }\n",
       "\n",
       "    .dataframe tbody tr th {\n",
       "        vertical-align: top;\n",
       "    }\n",
       "\n",
       "    .dataframe thead th {\n",
       "        text-align: right;\n",
       "    }\n",
       "</style>\n",
       "<table border=\"1\" class=\"dataframe\">\n",
       "  <thead>\n",
       "    <tr style=\"text-align: right;\">\n",
       "      <th></th>\n",
       "      <th>query</th>\n",
       "      <th>label</th>\n",
       "    </tr>\n",
       "  </thead>\n",
       "  <tbody>\n",
       "    <tr>\n",
       "      <th>0</th>\n",
       "      <td>Cuánto es el precio del depa en la Calle Garcí...</td>\n",
       "      <td>other</td>\n",
       "    </tr>\n",
       "    <tr>\n",
       "      <th>1</th>\n",
       "      <td>Ey, ¿cómo están los precios en la Calle Gonzál...</td>\n",
       "      <td>other</td>\n",
       "    </tr>\n",
       "    <tr>\n",
       "      <th>2</th>\n",
       "      <td>Ey, ¿qué tal están los precios en la Calle Rep...</td>\n",
       "      <td>other</td>\n",
       "    </tr>\n",
       "    <tr>\n",
       "      <th>3</th>\n",
       "      <td>Ey, ¿qué tal están los precios en la Calle Shy...</td>\n",
       "      <td>other</td>\n",
       "    </tr>\n",
       "    <tr>\n",
       "      <th>4</th>\n",
       "      <td>Quiero saber el precio de la casa en la calle ...</td>\n",
       "      <td>other</td>\n",
       "    </tr>\n",
       "  </tbody>\n",
       "</table>\n",
       "</div>"
      ],
      "text/plain": [
       "                                               query  label\n",
       "0  Cuánto es el precio del depa en la Calle Garcí...  other\n",
       "1  Ey, ¿cómo están los precios en la Calle Gonzál...  other\n",
       "2  Ey, ¿qué tal están los precios en la Calle Rep...  other\n",
       "3  Ey, ¿qué tal están los precios en la Calle Shy...  other\n",
       "4  Quiero saber el precio de la casa en la calle ...  other"
      ]
     },
     "execution_count": 439,
     "metadata": {},
     "output_type": "execute_result"
    }
   ],
   "source": [
    "price_queries_upper = contact_agent_df[contact_agent_df['query'].str.contains('precio')]\n",
    "price_queries_lower = contact_agent_df[contact_agent_df['query'].str.contains('Precio')]\n",
    "total_price_queries = pd.merge(price_queries_lower, price_queries_upper, how='outer')\n",
    "# total_price_queries.to_csv('data/price_queries.csv', index=False)\n",
    "total_price_queries"
   ]
  },
  {
   "cell_type": "markdown",
   "metadata": {},
   "source": [
    "### Training Analysis of Roberta model"
   ]
  },
  {
   "cell_type": "code",
   "execution_count": 441,
   "metadata": {},
   "outputs": [
    {
     "name": "stdout",
     "output_type": "stream",
     "text": [
      "EPOCHS:  [0.28169014084507044, 0.5633802816901409, 0.8450704225352113, 1.1267605633802817, 1.408450704225352, 1.6901408450704225, 1.971830985915493, 2.2535211267605635, 2.535211267605634, 2.816901408450704, 3.0985915492957745, 3.380281690140845, 3.6619718309859155, 3.943661971830986, 4.225352112676056, 4.507042253521127, 4.788732394366197, 5.0]\n"
     ]
    },
    {
     "data": {
      "image/png": "[encoded data removed]",
      "text/plain": [
       "<Figure size 1000x600 with 1 Axes>"
      ]
     },
     "metadata": {},
     "output_type": "display_data"
    },
    {
     "data": {
      "image/png": "[encoded data removed]",
      "text/plain": [
       "<Figure size 1000x600 with 1 Axes>"
      ]
     },
     "metadata": {},
     "output_type": "display_data"
    },
    {
     "data": {
      "image/png": "[encoded data removed]",
      "text/plain": [
       "<Figure size 1000x600 with 1 Axes>"
      ]
     },
     "metadata": {},
     "output_type": "display_data"
    }
   ],
   "source": [
    "import os\n",
    "import json\n",
    "import matplotlib.pyplot as plt\n",
    "\n",
    "# Define the directory where the model and training logs are saved\n",
    "output_dir = './results/model-6'\n",
    "\n",
    "# Load the training history from the 'trainer_state.json' file\n",
    "trainer_state_file = os.path.join(output_dir, 'log_history.json')\n",
    "with open(trainer_state_file, 'r') as f:\n",
    "    log_history = json.load(f)\n",
    "\n",
    "# Initialize lists to store extracted data\n",
    "epochs = []\n",
    "train_loss = []\n",
    "eval_loss = []\n",
    "learning_rate = []\n",
    "grad_norms = []\n",
    "\n",
    "# Loop over the log history to extract training metrics\n",
    "for entry in log_history:\n",
    "    if 'loss' in entry:\n",
    "        train_loss.append(entry['loss'])\n",
    "    if 'eval_loss' in entry and 'epoch' in entry:\n",
    "        epochs.append(entry['epoch'])\n",
    "        eval_loss.append(entry['eval_loss'])\n",
    "    if 'learning_rate' in entry:\n",
    "        learning_rate.append(entry['learning_rate'])\n",
    "    if 'grad_norm' in entry:\n",
    "        grad_norms.append(entry['grad_norm'])\n",
    "print('EPOCHS: ', epochs)\n",
    "\n",
    "# Convert lists to numpy arrays for consistency in plotting\n",
    "# epochs = np.array(epochs)\n",
    "# train_loss = np.array(train_loss)\n",
    "# eval_loss = np.array(eval_loss)\n",
    "# learning_rate = np.array(learning_rate)\n",
    "# grad_norms = np.array(grad_norms)\n",
    "\n",
    "# Plot Training and Evaluation Loss over Epochs\n",
    "plt.figure(figsize=(10, 6))\n",
    "plt.plot(epochs[:len(train_loss)], train_loss, label='Training Loss', marker='o')\n",
    "plt.plot(epochs[:len(eval_loss)], eval_loss, label='Evaluation Loss', marker='o')\n",
    "plt.xlabel('Epoch')\n",
    "plt.ylabel('Loss')\n",
    "plt.title('Training and Evaluation Loss over Epochs')\n",
    "plt.legend()\n",
    "plt.grid(True)\n",
    "plt.show()\n",
    "\n",
    "# Plot Gradient Norms over Epochs\n",
    "if len(grad_norms) > 0:\n",
    "    plt.figure(figsize=(10, 6))\n",
    "    plt.plot(epochs[:len(grad_norms)], grad_norms, label='Gradient Norms', marker='o', color='orange')\n",
    "    plt.xlabel('Epoch')\n",
    "    plt.ylabel('Gradient Norm')\n",
    "    plt.title('Gradient Norms over Epochs')\n",
    "    plt.yscale('log')\n",
    "    plt.legend()\n",
    "    plt.grid(True)\n",
    "    plt.show()\n",
    "\n",
    "# Plot Learning Rate over Epochs\n",
    "if len(learning_rate) > 0:\n",
    "    plt.figure(figsize=(10, 6))\n",
    "    plt.plot(epochs[:len(learning_rate)], learning_rate, label='Learning Rate', marker='o', color='green')\n",
    "    plt.xlabel('Epoch')\n",
    "    plt.ylabel('Learning Rate')\n",
    "    plt.title('Learning Rate Schedule over Epochs')\n",
    "    plt.legend()\n",
    "    plt.grid(True)\n",
    "    plt.show()\n",
    "\n"
   ]
  },
  {
   "cell_type": "markdown",
   "metadata": {},
   "source": [
    "### Model 324"
   ]
  },
  {
   "cell_type": "code",
   "execution_count": 375,
   "metadata": {},
   "outputs": [
    {
     "data": {
      "image/png": "[encoded data removed]",
      "text/plain": [
       "<Figure size 1000x600 with 1 Axes>"
      ]
     },
     "metadata": {},
     "output_type": "display_data"
    },
    {
     "data": {
      "image/png": "[encoded data removed]",
      "text/plain": [
       "<Figure size 1000x600 with 1 Axes>"
      ]
     },
     "metadata": {},
     "output_type": "display_data"
    },
    {
     "data": {
      "image/png": "[encoded data removed]",
      "text/plain": [
       "<Figure size 1000x600 with 1 Axes>"
      ]
     },
     "metadata": {},
     "output_type": "display_data"
    }
   ],
   "source": [
    "# Example data from your training history\n",
    "epochs = [0.19, 0.37, 0.56, 0.74, 0.93, 1.11, 1.3, 1.48, 1.67, 1.85, 2.04, 2.22, 2.41, 2.59, 2.78, 2.96, 3.0]\n",
    "training_loss = [0.6817, 0.6591, 0.5165, 0.1837, 0.3344, 0.0052, 0.002, 0.1538, 0.1708, 0.1414, 0.0892, 0.0011, 0.001, 0.1855, 0.0713, 0.001, 0.19740721251510865]\n",
    "eval_loss = [0.6762, 0.7514, 0.2962, 0.1544, 0.0063, 0.0462, 0.1152, 0.0426, 0.000897, 0.02396, 0.000486, 0.000433, 0.000353, 0.000387, 0.000376, 0.000365, 0.0003654308384284377]\n",
    "gradient_norm = [4.4306, 19.7428, 11.9147, 249.9241, 0.3108, 0.0638, 0.0367, 0.0179, 0.0259, 0.0547, 0.0585, 0.0341, 0.0191, 0.0449, 0.0241, 0.0198, 0.0198]\n",
    "\n",
    "# 1. Training Loss vs. Epochs\n",
    "plt.figure(figsize=(10, 6))\n",
    "plt.plot(epochs, training_loss, label='Training Loss', marker='o')\n",
    "plt.xlabel('Epochs')\n",
    "plt.ylabel('Loss')\n",
    "plt.title('Training Loss vs. Epochs')\n",
    "plt.legend()\n",
    "plt.grid(True)\n",
    "plt.show()\n",
    "\n",
    "# 2. Evaluation Loss vs. Epochs\n",
    "plt.figure(figsize=(10, 6))\n",
    "plt.plot(epochs, eval_loss, label='Evaluation Loss', marker='o', color='orange')\n",
    "plt.xlabel('Epochs')\n",
    "plt.ylabel('Loss')\n",
    "plt.title('Evaluation Loss vs. Epochs')\n",
    "plt.legend()\n",
    "plt.grid(True)\n",
    "plt.show()\n",
    "\n",
    "# 3. Gradient Norm vs. Epochs\n",
    "plt.figure(figsize=(10, 6))\n",
    "plt.plot(epochs, gradient_norm, label='Gradient Norm', marker='o', color='green')\n",
    "plt.xlabel('Epochs')\n",
    "plt.ylabel('Gradient Norm')\n",
    "plt.title('Gradient Norm vs. Epochs')\n",
    "plt.legend()\n",
    "plt.grid(True)\n",
    "plt.show()\n"
   ]
  },
  {
   "cell_type": "code",
   "execution_count": 235,
   "metadata": {},
   "outputs": [],
   "source": []
  },
  {
   "cell_type": "code",
   "execution_count": 263,
   "metadata": {},
   "outputs": [
    {
     "data": {
      "text/plain": [
       "array(['¿Puede proporcionar información sobre los restaurantes locales?',\n",
       "       'other'], dtype=object)"
      ]
     },
     "execution_count": 263,
     "metadata": {},
     "output_type": "execute_result"
    }
   ],
   "source": []
  },
  {
   "cell_type": "code",
   "execution_count": null,
   "metadata": {},
   "outputs": [],
   "source": []
  },
  {
   "cell_type": "markdown",
   "metadata": {},
   "source": []
  },
  {
   "cell_type": "markdown",
   "metadata": {},
   "source": []
  },
  {
   "cell_type": "code",
   "execution_count": null,
   "metadata": {},
   "outputs": [],
   "source": []
  },
  {
   "cell_type": "code",
   "execution_count": null,
   "metadata": {},
   "outputs": [],
   "source": []
  },
  {
   "cell_type": "code",
   "execution_count": null,
   "metadata": {},
   "outputs": [],
   "source": []
  },
  {
   "cell_type": "code",
   "execution_count": null,
   "metadata": {},
   "outputs": [],
   "source": []
  },
  {
   "cell_type": "code",
   "execution_count": null,
   "metadata": {},
   "outputs": [],
   "source": []
  },
  {
   "cell_type": "code",
   "execution_count": null,
   "metadata": {},
   "outputs": [],
   "source": []
  },
  {
   "cell_type": "code",
   "execution_count": null,
   "metadata": {},
   "outputs": [],
   "source": []
  },
  {
   "cell_type": "code",
   "execution_count": null,
   "metadata": {},
   "outputs": [],
   "source": []
  },
  {
   "cell_type": "code",
   "execution_count": null,
   "metadata": {},
   "outputs": [],
   "source": []
  },
  {
   "cell_type": "code",
   "execution_count": null,
   "metadata": {},
   "outputs": [],
   "source": []
  },
  {
   "cell_type": "code",
   "execution_count": null,
   "metadata": {},
   "outputs": [],
   "source": []
  },
  {
   "cell_type": "code",
   "execution_count": null,
   "metadata": {},
   "outputs": [],
   "source": []
  },
  {
   "cell_type": "code",
   "execution_count": null,
   "metadata": {},
   "outputs": [],
   "source": []
  },
  {
   "cell_type": "code",
   "execution_count": null,
   "metadata": {},
   "outputs": [],
   "source": []
  },
  {
   "cell_type": "code",
   "execution_count": null,
   "metadata": {},
   "outputs": [],
   "source": []
  },
  {
   "cell_type": "code",
   "execution_count": null,
   "metadata": {},
   "outputs": [],
   "source": []
  },
  {
   "cell_type": "code",
   "execution_count": null,
   "metadata": {},
   "outputs": [],
   "source": []
  },
  {
   "cell_type": "code",
   "execution_count": null,
   "metadata": {},
   "outputs": [],
   "source": []
  },
  {
   "cell_type": "code",
   "execution_count": null,
   "metadata": {},
   "outputs": [],
   "source": []
  },
  {
   "cell_type": "code",
   "execution_count": null,
   "metadata": {},
   "outputs": [],
   "source": []
  },
  {
   "cell_type": "code",
   "execution_count": null,
   "metadata": {},
   "outputs": [],
   "source": []
  },
  {
   "cell_type": "code",
   "execution_count": null,
   "metadata": {},
   "outputs": [],
   "source": []
  },
  {
   "cell_type": "code",
   "execution_count": null,
   "metadata": {},
   "outputs": [],
   "source": []
  },
  {
   "cell_type": "code",
   "execution_count": null,
   "metadata": {},
   "outputs": [],
   "source": []
  },
  {
   "cell_type": "code",
   "execution_count": null,
   "metadata": {},
   "outputs": [],
   "source": []
  },
  {
   "cell_type": "code",
   "execution_count": null,
   "metadata": {},
   "outputs": [],
   "source": []
  },
  {
   "cell_type": "code",
   "execution_count": null,
   "metadata": {},
   "outputs": [],
   "source": []
  },
  {
   "cell_type": "code",
   "execution_count": null,
   "metadata": {},
   "outputs": [],
   "source": []
  },
  {
   "cell_type": "code",
   "execution_count": null,
   "metadata": {},
   "outputs": [],
   "source": []
  },
  {
   "cell_type": "code",
   "execution_count": null,
   "metadata": {},
   "outputs": [],
   "source": []
  },
  {
   "cell_type": "code",
   "execution_count": null,
   "metadata": {},
   "outputs": [],
   "source": []
  },
  {
   "cell_type": "code",
   "execution_count": null,
   "metadata": {},
   "outputs": [],
   "source": []
  },
  {
   "cell_type": "code",
   "execution_count": null,
   "metadata": {},
   "outputs": [],
   "source": []
  },
  {
   "cell_type": "code",
   "execution_count": null,
   "metadata": {},
   "outputs": [],
   "source": []
  },
  {
   "cell_type": "code",
   "execution_count": null,
   "metadata": {},
   "outputs": [],
   "source": []
  },
  {
   "cell_type": "code",
   "execution_count": null,
   "metadata": {},
   "outputs": [],
   "source": []
  },
  {
   "cell_type": "code",
   "execution_count": null,
   "metadata": {},
   "outputs": [],
   "source": []
  },
  {
   "cell_type": "code",
   "execution_count": null,
   "metadata": {},
   "outputs": [],
   "source": []
  },
  {
   "cell_type": "code",
   "execution_count": null,
   "metadata": {},
   "outputs": [],
   "source": []
  },
  {
   "cell_type": "code",
   "execution_count": null,
   "metadata": {},
   "outputs": [],
   "source": []
  },
  {
   "cell_type": "code",
   "execution_count": null,
   "metadata": {},
   "outputs": [],
   "source": []
  },
  {
   "cell_type": "code",
   "execution_count": null,
   "metadata": {},
   "outputs": [],
   "source": []
  },
  {
   "cell_type": "code",
   "execution_count": null,
   "metadata": {},
   "outputs": [],
   "source": []
  },
  {
   "cell_type": "code",
   "execution_count": null,
   "metadata": {},
   "outputs": [],
   "source": []
  },
  {
   "cell_type": "code",
   "execution_count": null,
   "metadata": {},
   "outputs": [],
   "source": []
  },
  {
   "cell_type": "code",
   "execution_count": null,
   "metadata": {},
   "outputs": [],
   "source": []
  },
  {
   "cell_type": "code",
   "execution_count": null,
   "metadata": {},
   "outputs": [],
   "source": []
  },
  {
   "cell_type": "code",
   "execution_count": null,
   "metadata": {},
   "outputs": [],
   "source": []
  },
  {
   "cell_type": "code",
   "execution_count": null,
   "metadata": {},
   "outputs": [],
   "source": []
  },
  {
   "cell_type": "code",
   "execution_count": null,
   "metadata": {},
   "outputs": [],
   "source": []
  },
  {
   "cell_type": "code",
   "execution_count": null,
   "metadata": {},
   "outputs": [],
   "source": []
  },
  {
   "cell_type": "code",
   "execution_count": null,
   "metadata": {},
   "outputs": [],
   "source": []
  },
  {
   "cell_type": "code",
   "execution_count": null,
   "metadata": {},
   "outputs": [],
   "source": []
  },
  {
   "cell_type": "code",
   "execution_count": null,
   "metadata": {},
   "outputs": [],
   "source": []
  },
  {
   "cell_type": "code",
   "execution_count": null,
   "metadata": {},
   "outputs": [],
   "source": []
  },
  {
   "cell_type": "code",
   "execution_count": null,
   "metadata": {},
   "outputs": [],
   "source": []
  },
  {
   "cell_type": "code",
   "execution_count": null,
   "metadata": {},
   "outputs": [],
   "source": []
  },
  {
   "cell_type": "code",
   "execution_count": null,
   "metadata": {},
   "outputs": [],
   "source": []
  },
  {
   "cell_type": "code",
   "execution_count": null,
   "metadata": {},
   "outputs": [],
   "source": []
  },
  {
   "cell_type": "code",
   "execution_count": 87,
   "metadata": {},
   "outputs": [
    {
     "data": {
      "text/plain": [
       "page             48\n",
       "location         48\n",
       "neighborhood     48\n",
       "area             48\n",
       "price            48\n",
       "fee              48\n",
       "bedrooms         48\n",
       "bathrooms        48\n",
       "parking_spots    48\n",
       "description      48\n",
       "url              48\n",
       "dtype: int64"
      ]
     },
     "execution_count": 87,
     "metadata": {},
     "output_type": "execute_result"
    }
   ],
   "source": [
    "properties_df = properties_df[properties_df['page'] < 14]\n",
    "duplicates = properties_df[properties_df.loc[:, 'location':].duplicated()]\n",
    "duplicates.count()"
   ]
  },
  {
   "cell_type": "code",
   "execution_count": 89,
   "metadata": {},
   "outputs": [
    {
     "data": {
      "text/html": [
       "<div>\n",
       "<style scoped>\n",
       "    .dataframe tbody tr th:only-of-type {\n",
       "        vertical-align: middle;\n",
       "    }\n",
       "\n",
       "    .dataframe tbody tr th {\n",
       "        vertical-align: top;\n",
       "    }\n",
       "\n",
       "    .dataframe thead th {\n",
       "        text-align: right;\n",
       "    }\n",
       "</style>\n",
       "<table border=\"1\" class=\"dataframe\">\n",
       "  <thead>\n",
       "    <tr style=\"text-align: right;\">\n",
       "      <th></th>\n",
       "      <th>page</th>\n",
       "      <th>location</th>\n",
       "      <th>neighborhood</th>\n",
       "      <th>area</th>\n",
       "      <th>price</th>\n",
       "      <th>fee</th>\n",
       "      <th>bedrooms</th>\n",
       "      <th>bathrooms</th>\n",
       "      <th>parking_spots</th>\n",
       "      <th>description</th>\n",
       "      <th>url</th>\n",
       "    </tr>\n",
       "  </thead>\n",
       "  <tbody>\n",
       "    <tr>\n",
       "      <th>109</th>\n",
       "      <td>4</td>\n",
       "      <td>Urbanización El Condado</td>\n",
       "      <td>N/A</td>\n",
       "      <td>122 m² tot.</td>\n",
       "      <td>USD 129.900</td>\n",
       "      <td>N/A</td>\n",
       "      <td>2 baños</td>\n",
       "      <td>2 estac.</td>\n",
       "      <td>N/A</td>\n",
       "      <td>N/A</td>\n",
       "      <td>plusvalia.comN/A</td>\n",
       "    </tr>\n",
       "    <tr>\n",
       "      <th>152</th>\n",
       "      <td>6</td>\n",
       "      <td>Urbanización El Condado</td>\n",
       "      <td>El Condado, Quito</td>\n",
       "      <td>122 m² tot.</td>\n",
       "      <td>USD 129.900</td>\n",
       "      <td>USD 145 Alícuota</td>\n",
       "      <td>2 baños</td>\n",
       "      <td>2 estac.</td>\n",
       "      <td>N/A</td>\n",
       "      <td>¡excelente oportunidad! En la Urb. El Condado ...</td>\n",
       "      <td>plusvalia.com/propiedades/clasificado/veclapin...</td>\n",
       "    </tr>\n",
       "    <tr>\n",
       "      <th>325</th>\n",
       "      <td>11</td>\n",
       "      <td>Urbanización El Condado</td>\n",
       "      <td>N/A</td>\n",
       "      <td>188 m² tot.</td>\n",
       "      <td>USD 155.000</td>\n",
       "      <td>N/A</td>\n",
       "      <td>3 hab.</td>\n",
       "      <td>2 estac.</td>\n",
       "      <td>N/A</td>\n",
       "      <td>N/A</td>\n",
       "      <td>plusvalia.comN/A</td>\n",
       "    </tr>\n",
       "    <tr>\n",
       "      <th>348</th>\n",
       "      <td>12</td>\n",
       "      <td>Urbanización El Condado</td>\n",
       "      <td>N/A</td>\n",
       "      <td>356 m² tot.</td>\n",
       "      <td>USD 264.900</td>\n",
       "      <td>N/A</td>\n",
       "      <td>4 hab.</td>\n",
       "      <td>4 baños</td>\n",
       "      <td>4 estac.</td>\n",
       "      <td>N/A</td>\n",
       "      <td>plusvalia.comN/A</td>\n",
       "    </tr>\n",
       "  </tbody>\n",
       "</table>\n",
       "</div>"
      ],
      "text/plain": [
       "     page                 location       neighborhood         area  \\\n",
       "109     4  Urbanización El Condado                N/A  122 m² tot.   \n",
       "152     6  Urbanización El Condado  El Condado, Quito  122 m² tot.   \n",
       "325    11  Urbanización El Condado                N/A  188 m² tot.   \n",
       "348    12  Urbanización El Condado                N/A  356 m² tot.   \n",
       "\n",
       "           price               fee bedrooms bathrooms parking_spots  \\\n",
       "109  USD 129.900               N/A  2 baños  2 estac.           N/A   \n",
       "152  USD 129.900  USD 145 Alícuota  2 baños  2 estac.           N/A   \n",
       "325  USD 155.000               N/A   3 hab.  2 estac.           N/A   \n",
       "348  USD 264.900               N/A   4 hab.   4 baños      4 estac.   \n",
       "\n",
       "                                           description  \\\n",
       "109                                                N/A   \n",
       "152  ¡excelente oportunidad! En la Urb. El Condado ...   \n",
       "325                                                N/A   \n",
       "348                                                N/A   \n",
       "\n",
       "                                                   url  \n",
       "109                                   plusvalia.comN/A  \n",
       "152  plusvalia.com/propiedades/clasificado/veclapin...  \n",
       "325                                   plusvalia.comN/A  \n",
       "348                                   plusvalia.comN/A  "
      ]
     },
     "execution_count": 89,
     "metadata": {},
     "output_type": "execute_result"
    }
   ],
   "source": [
    "properties_df['location'].describe()\n",
    "properties_df[properties_df['location'] == 'Urbanización El Condado']"
   ]
  },
  {
   "cell_type": "code",
   "execution_count": 90,
   "metadata": {},
   "outputs": [
    {
     "data": {
      "text/html": [
       "<div>\n",
       "<style scoped>\n",
       "    .dataframe tbody tr th:only-of-type {\n",
       "        vertical-align: middle;\n",
       "    }\n",
       "\n",
       "    .dataframe tbody tr th {\n",
       "        vertical-align: top;\n",
       "    }\n",
       "\n",
       "    .dataframe thead th {\n",
       "        text-align: right;\n",
       "    }\n",
       "</style>\n",
       "<table border=\"1\" class=\"dataframe\">\n",
       "  <thead>\n",
       "    <tr style=\"text-align: right;\">\n",
       "      <th></th>\n",
       "      <th>page</th>\n",
       "      <th>location</th>\n",
       "      <th>neighborhood</th>\n",
       "      <th>area</th>\n",
       "      <th>price</th>\n",
       "      <th>fee</th>\n",
       "      <th>bedrooms</th>\n",
       "      <th>bathrooms</th>\n",
       "      <th>parking_spots</th>\n",
       "      <th>description</th>\n",
       "      <th>url</th>\n",
       "    </tr>\n",
       "  </thead>\n",
       "  <tbody>\n",
       "  </tbody>\n",
       "</table>\n",
       "</div>"
      ],
      "text/plain": [
       "Empty DataFrame\n",
       "Columns: [page, location, neighborhood, area, price, fee, bedrooms, bathrooms, parking_spots, description, url]\n",
       "Index: []"
      ]
     },
     "execution_count": 90,
     "metadata": {},
     "output_type": "execute_result"
    }
   ],
   "source": [
    "duplicates[duplicates['location'] == 'Urbanización El Condado']"
   ]
  },
  {
   "cell_type": "code",
   "execution_count": null,
   "metadata": {},
   "outputs": [],
   "source": []
  },
  {
   "cell_type": "code",
   "execution_count": null,
   "metadata": {},
   "outputs": [],
   "source": []
  },
  {
   "cell_type": "code",
   "execution_count": null,
   "metadata": {},
   "outputs": [],
   "source": [
    "duplicates"
   ]
  },
  {
   "cell_type": "code",
   "execution_count": null,
   "metadata": {},
   "outputs": [],
   "source": []
  },
  {
   "cell_type": "code",
   "execution_count": null,
   "metadata": {},
   "outputs": [],
   "source": []
  },
  {
   "cell_type": "code",
   "execution_count": null,
   "metadata": {},
   "outputs": [],
   "source": []
  },
  {
   "cell_type": "code",
   "execution_count": null,
   "metadata": {},
   "outputs": [],
   "source": []
  },
  {
   "cell_type": "code",
   "execution_count": null,
   "metadata": {},
   "outputs": [],
   "source": []
  },
  {
   "cell_type": "code",
   "execution_count": null,
   "metadata": {},
   "outputs": [],
   "source": []
  },
  {
   "cell_type": "code",
   "execution_count": null,
   "metadata": {},
   "outputs": [],
   "source": []
  },
  {
   "cell_type": "code",
   "execution_count": null,
   "metadata": {},
   "outputs": [],
   "source": []
  },
  {
   "cell_type": "code",
   "execution_count": 74,
   "metadata": {},
   "outputs": [
    {
     "data": {
      "text/html": [
       "<div>\n",
       "<style scoped>\n",
       "    .dataframe tbody tr th:only-of-type {\n",
       "        vertical-align: middle;\n",
       "    }\n",
       "\n",
       "    .dataframe tbody tr th {\n",
       "        vertical-align: top;\n",
       "    }\n",
       "\n",
       "    .dataframe thead th {\n",
       "        text-align: right;\n",
       "    }\n",
       "</style>\n",
       "<table border=\"1\" class=\"dataframe\">\n",
       "  <thead>\n",
       "    <tr style=\"text-align: right;\">\n",
       "      <th></th>\n",
       "      <th>page</th>\n",
       "      <th>location</th>\n",
       "      <th>neighborhood</th>\n",
       "      <th>area</th>\n",
       "      <th>price</th>\n",
       "      <th>fee</th>\n",
       "      <th>bedrooms</th>\n",
       "      <th>bathrooms</th>\n",
       "      <th>parking_spots</th>\n",
       "      <th>description</th>\n",
       "      <th>url</th>\n",
       "    </tr>\n",
       "  </thead>\n",
       "  <tbody>\n",
       "    <tr>\n",
       "      <th>32</th>\n",
       "      <td>2</td>\n",
       "      <td>cashapamba</td>\n",
       "      <td>Sangolqui, Quito</td>\n",
       "      <td>2345 m² tot.</td>\n",
       "      <td>USD 258.000</td>\n",
       "      <td>USD 20 Alícuota</td>\n",
       "      <td>2 hab.</td>\n",
       "      <td>3 baños</td>\n",
       "      <td>6 estac.</td>\n",
       "      <td>Linda quinta terreno 2345m2 dentro de conjunto...</td>\n",
       "      <td>plusvalia.com/propiedades/clasificado/veclhqin...</td>\n",
       "    </tr>\n",
       "  </tbody>\n",
       "</table>\n",
       "</div>"
      ],
      "text/plain": [
       "    page    location      neighborhood          area        price  \\\n",
       "32     2  cashapamba  Sangolqui, Quito  2345 m² tot.  USD 258.000   \n",
       "\n",
       "                fee bedrooms bathrooms parking_spots  \\\n",
       "32  USD 20 Alícuota   2 hab.   3 baños      6 estac.   \n",
       "\n",
       "                                          description  \\\n",
       "32  Linda quinta terreno 2345m2 dentro de conjunto...   \n",
       "\n",
       "                                                  url  \n",
       "32  plusvalia.com/propiedades/clasificado/veclhqin...  "
      ]
     },
     "execution_count": 74,
     "metadata": {},
     "output_type": "execute_result"
    }
   ],
   "source": [
    "duplicates[duplicates['location'] == 'cashapamba']"
   ]
  },
  {
   "cell_type": "code",
   "execution_count": null,
   "metadata": {},
   "outputs": [],
   "source": []
  },
  {
   "cell_type": "code",
   "execution_count": null,
   "metadata": {},
   "outputs": [],
   "source": []
  },
  {
   "cell_type": "code",
   "execution_count": null,
   "metadata": {},
   "outputs": [],
   "source": []
  },
  {
   "cell_type": "code",
   "execution_count": null,
   "metadata": {},
   "outputs": [],
   "source": []
  },
  {
   "cell_type": "code",
   "execution_count": null,
   "metadata": {},
   "outputs": [],
   "source": []
  },
  {
   "cell_type": "code",
   "execution_count": null,
   "metadata": {},
   "outputs": [],
   "source": []
  },
  {
   "cell_type": "code",
   "execution_count": null,
   "metadata": {},
   "outputs": [],
   "source": []
  },
  {
   "cell_type": "code",
   "execution_count": null,
   "metadata": {},
   "outputs": [],
   "source": []
  },
  {
   "cell_type": "code",
   "execution_count": null,
   "metadata": {},
   "outputs": [],
   "source": []
  },
  {
   "cell_type": "code",
   "execution_count": null,
   "metadata": {},
   "outputs": [],
   "source": []
  },
  {
   "cell_type": "code",
   "execution_count": null,
   "metadata": {},
   "outputs": [],
   "source": []
  },
  {
   "cell_type": "code",
   "execution_count": null,
   "metadata": {},
   "outputs": [],
   "source": []
  },
  {
   "cell_type": "code",
   "execution_count": null,
   "metadata": {},
   "outputs": [],
   "source": []
  },
  {
   "cell_type": "code",
   "execution_count": 60,
   "metadata": {},
   "outputs": [
    {
     "data": {
      "text/html": [
       "<div>\n",
       "<style scoped>\n",
       "    .dataframe tbody tr th:only-of-type {\n",
       "        vertical-align: middle;\n",
       "    }\n",
       "\n",
       "    .dataframe tbody tr th {\n",
       "        vertical-align: top;\n",
       "    }\n",
       "\n",
       "    .dataframe thead th {\n",
       "        text-align: right;\n",
       "    }\n",
       "</style>\n",
       "<table border=\"1\" class=\"dataframe\">\n",
       "  <thead>\n",
       "    <tr style=\"text-align: right;\">\n",
       "      <th></th>\n",
       "      <th>page</th>\n",
       "      <th>location</th>\n",
       "      <th>neighborhood</th>\n",
       "      <th>area</th>\n",
       "      <th>price</th>\n",
       "      <th>fee</th>\n",
       "      <th>bedrooms</th>\n",
       "      <th>bathrooms</th>\n",
       "      <th>parking_spots</th>\n",
       "      <th>description</th>\n",
       "      <th>url</th>\n",
       "    </tr>\n",
       "  </thead>\n",
       "  <tbody>\n",
       "    <tr>\n",
       "      <th>408</th>\n",
       "      <td>16</td>\n",
       "      <td>Ponceano</td>\n",
       "      <td>N/A</td>\n",
       "      <td>115 m² tot.</td>\n",
       "      <td>USD 87.000</td>\n",
       "      <td>N/A</td>\n",
       "      <td>3 hab.</td>\n",
       "      <td>2 baños</td>\n",
       "      <td>2 estac.</td>\n",
       "      <td>N/A</td>\n",
       "      <td>plusvalia.comN/A</td>\n",
       "    </tr>\n",
       "    <tr>\n",
       "      <th>409</th>\n",
       "      <td>16</td>\n",
       "      <td>moran</td>\n",
       "      <td>N/A</td>\n",
       "      <td>130 m² tot.</td>\n",
       "      <td>USD 47.000</td>\n",
       "      <td>N/A</td>\n",
       "      <td>3 hab.</td>\n",
       "      <td>2 baños</td>\n",
       "      <td>1 estac.</td>\n",
       "      <td>N/A</td>\n",
       "      <td>plusvalia.comN/A</td>\n",
       "    </tr>\n",
       "    <tr>\n",
       "      <th>410</th>\n",
       "      <td>16</td>\n",
       "      <td>Calderón Av. Carlos Mantilla</td>\n",
       "      <td>N/A</td>\n",
       "      <td>140 m² tot.</td>\n",
       "      <td>USD 50.000</td>\n",
       "      <td>N/A</td>\n",
       "      <td>3 hab.</td>\n",
       "      <td>2 baños</td>\n",
       "      <td>1 estac.</td>\n",
       "      <td>N/A</td>\n",
       "      <td>plusvalia.comN/A</td>\n",
       "    </tr>\n",
       "    <tr>\n",
       "      <th>411</th>\n",
       "      <td>16</td>\n",
       "      <td>Eloy Alfaro y Gaspar de Villarroel</td>\n",
       "      <td>N/A</td>\n",
       "      <td>400 m² tot.</td>\n",
       "      <td>USD 200.000</td>\n",
       "      <td>N/A</td>\n",
       "      <td>4 hab.</td>\n",
       "      <td>4 baños</td>\n",
       "      <td>2 estac.</td>\n",
       "      <td>N/A</td>\n",
       "      <td>plusvalia.comN/A</td>\n",
       "    </tr>\n",
       "    <tr>\n",
       "      <th>412</th>\n",
       "      <td>16</td>\n",
       "      <td>calle de entrada a Llano Grande García Moreno ...</td>\n",
       "      <td>N/A</td>\n",
       "      <td>126 m² tot.</td>\n",
       "      <td>USD 47.000</td>\n",
       "      <td>N/A</td>\n",
       "      <td>4 hab.</td>\n",
       "      <td>3 baños</td>\n",
       "      <td>1 estac.</td>\n",
       "      <td>N/A</td>\n",
       "      <td>plusvalia.comN/A</td>\n",
       "    </tr>\n",
       "    <tr>\n",
       "      <th>413</th>\n",
       "      <td>16</td>\n",
       "      <td>Santa Eulalia</td>\n",
       "      <td>N/A</td>\n",
       "      <td>2078 m² tot.</td>\n",
       "      <td>USD 78.900</td>\n",
       "      <td>N/A</td>\n",
       "      <td>N/A</td>\n",
       "      <td>N/A</td>\n",
       "      <td>N/A</td>\n",
       "      <td>N/A</td>\n",
       "      <td>plusvalia.comN/A</td>\n",
       "    </tr>\n",
       "    <tr>\n",
       "      <th>414</th>\n",
       "      <td>16</td>\n",
       "      <td>Pomasqui</td>\n",
       "      <td>N/A</td>\n",
       "      <td>120 m² tot.</td>\n",
       "      <td>USD 105.000</td>\n",
       "      <td>N/A</td>\n",
       "      <td>3 hab.</td>\n",
       "      <td>2 baños</td>\n",
       "      <td>2 estac.</td>\n",
       "      <td>N/A</td>\n",
       "      <td>plusvalia.comN/A</td>\n",
       "    </tr>\n",
       "    <tr>\n",
       "      <th>415</th>\n",
       "      <td>16</td>\n",
       "      <td>republica y pradera</td>\n",
       "      <td>N/A</td>\n",
       "      <td>135 m² tot.</td>\n",
       "      <td>USD 79.000</td>\n",
       "      <td>N/A</td>\n",
       "      <td>2 hab.</td>\n",
       "      <td>3 baños</td>\n",
       "      <td>1 estac.</td>\n",
       "      <td>N/A</td>\n",
       "      <td>plusvalia.comN/A</td>\n",
       "    </tr>\n",
       "    <tr>\n",
       "      <th>416</th>\n",
       "      <td>16</td>\n",
       "      <td>N12 BENJAMIN CARRION - E9-</td>\n",
       "      <td>N/A</td>\n",
       "      <td>267 m² tot.</td>\n",
       "      <td>USD 99.000</td>\n",
       "      <td>N/A</td>\n",
       "      <td>3 hab.</td>\n",
       "      <td>3 baños</td>\n",
       "      <td>2 estac.</td>\n",
       "      <td>N/A</td>\n",
       "      <td>plusvalia.comN/A</td>\n",
       "    </tr>\n",
       "    <tr>\n",
       "      <th>417</th>\n",
       "      <td>16</td>\n",
       "      <td>Alangasi</td>\n",
       "      <td>N/A</td>\n",
       "      <td>763 m² tot.</td>\n",
       "      <td>USD 290.000</td>\n",
       "      <td>N/A</td>\n",
       "      <td>4 hab.</td>\n",
       "      <td>7 baños</td>\n",
       "      <td>5 estac.</td>\n",
       "      <td>N/A</td>\n",
       "      <td>plusvalia.comN/A</td>\n",
       "    </tr>\n",
       "    <tr>\n",
       "      <th>418</th>\n",
       "      <td>16</td>\n",
       "      <td>Calderón</td>\n",
       "      <td>N/A</td>\n",
       "      <td>180 m² tot.</td>\n",
       "      <td>USD 350</td>\n",
       "      <td>N/A</td>\n",
       "      <td>3 hab.</td>\n",
       "      <td>2 baños</td>\n",
       "      <td>1 estac.</td>\n",
       "      <td>N/A</td>\n",
       "      <td>plusvalia.comN/A</td>\n",
       "    </tr>\n",
       "    <tr>\n",
       "      <th>419</th>\n",
       "      <td>16</td>\n",
       "      <td>Cárcelen</td>\n",
       "      <td>N/A</td>\n",
       "      <td>199 m² tot.</td>\n",
       "      <td>USD 123.000</td>\n",
       "      <td>N/A</td>\n",
       "      <td>3 hab.</td>\n",
       "      <td>2 baños</td>\n",
       "      <td>2 estac.</td>\n",
       "      <td>N/A</td>\n",
       "      <td>plusvalia.comN/A</td>\n",
       "    </tr>\n",
       "    <tr>\n",
       "      <th>420</th>\n",
       "      <td>16</td>\n",
       "      <td>vicente aguirre y ulloa</td>\n",
       "      <td>N/A</td>\n",
       "      <td>117 m² tot.</td>\n",
       "      <td>USD 87.000</td>\n",
       "      <td>N/A</td>\n",
       "      <td>3 hab.</td>\n",
       "      <td>2 baños</td>\n",
       "      <td>1 estac.</td>\n",
       "      <td>N/A</td>\n",
       "      <td>plusvalia.comN/A</td>\n",
       "    </tr>\n",
       "    <tr>\n",
       "      <th>421</th>\n",
       "      <td>16</td>\n",
       "      <td>camilo egas</td>\n",
       "      <td>N/A</td>\n",
       "      <td>260 m² tot.</td>\n",
       "      <td>USD 219.000</td>\n",
       "      <td>N/A</td>\n",
       "      <td>4 hab.</td>\n",
       "      <td>3 baños</td>\n",
       "      <td>3 estac.</td>\n",
       "      <td>N/A</td>\n",
       "      <td>plusvalia.comN/A</td>\n",
       "    </tr>\n",
       "    <tr>\n",
       "      <th>422</th>\n",
       "      <td>16</td>\n",
       "      <td>Caspigasi</td>\n",
       "      <td>N/A</td>\n",
       "      <td>3 estac.</td>\n",
       "      <td>USD 110.000</td>\n",
       "      <td>N/A</td>\n",
       "      <td>N/A</td>\n",
       "      <td>N/A</td>\n",
       "      <td>N/A</td>\n",
       "      <td>N/A</td>\n",
       "      <td>plusvalia.comN/A</td>\n",
       "    </tr>\n",
       "    <tr>\n",
       "      <th>423</th>\n",
       "      <td>16</td>\n",
       "      <td>calle Venezuela</td>\n",
       "      <td>N/A</td>\n",
       "      <td>N/A</td>\n",
       "      <td>USD 1.200.000</td>\n",
       "      <td>N/A</td>\n",
       "      <td>N/A</td>\n",
       "      <td>N/A</td>\n",
       "      <td>N/A</td>\n",
       "      <td>N/A</td>\n",
       "      <td>plusvalia.comN/A</td>\n",
       "    </tr>\n",
       "  </tbody>\n",
       "</table>\n",
       "</div>"
      ],
      "text/plain": [
       "     page                                           location neighborhood  \\\n",
       "408    16                                           Ponceano          N/A   \n",
       "409    16                                              moran          N/A   \n",
       "410    16                       Calderón Av. Carlos Mantilla          N/A   \n",
       "411    16                 Eloy Alfaro y Gaspar de Villarroel          N/A   \n",
       "412    16  calle de entrada a Llano Grande García Moreno ...          N/A   \n",
       "413    16                                      Santa Eulalia          N/A   \n",
       "414    16                                           Pomasqui          N/A   \n",
       "415    16                                republica y pradera          N/A   \n",
       "416    16                         N12 BENJAMIN CARRION - E9-          N/A   \n",
       "417    16                                           Alangasi          N/A   \n",
       "418    16                                           Calderón          N/A   \n",
       "419    16                                           Cárcelen          N/A   \n",
       "420    16                            vicente aguirre y ulloa          N/A   \n",
       "421    16                                        camilo egas          N/A   \n",
       "422    16                                          Caspigasi          N/A   \n",
       "423    16                                    calle Venezuela          N/A   \n",
       "\n",
       "             area          price  fee bedrooms bathrooms parking_spots  \\\n",
       "408   115 m² tot.     USD 87.000  N/A   3 hab.   2 baños      2 estac.   \n",
       "409   130 m² tot.     USD 47.000  N/A   3 hab.   2 baños      1 estac.   \n",
       "410   140 m² tot.     USD 50.000  N/A   3 hab.   2 baños      1 estac.   \n",
       "411   400 m² tot.    USD 200.000  N/A   4 hab.   4 baños      2 estac.   \n",
       "412   126 m² tot.     USD 47.000  N/A   4 hab.   3 baños      1 estac.   \n",
       "413  2078 m² tot.     USD 78.900  N/A      N/A       N/A           N/A   \n",
       "414   120 m² tot.    USD 105.000  N/A   3 hab.   2 baños      2 estac.   \n",
       "415   135 m² tot.     USD 79.000  N/A   2 hab.   3 baños      1 estac.   \n",
       "416   267 m² tot.     USD 99.000  N/A   3 hab.   3 baños      2 estac.   \n",
       "417   763 m² tot.    USD 290.000  N/A   4 hab.   7 baños      5 estac.   \n",
       "418   180 m² tot.        USD 350  N/A   3 hab.   2 baños      1 estac.   \n",
       "419   199 m² tot.    USD 123.000  N/A   3 hab.   2 baños      2 estac.   \n",
       "420   117 m² tot.     USD 87.000  N/A   3 hab.   2 baños      1 estac.   \n",
       "421   260 m² tot.    USD 219.000  N/A   4 hab.   3 baños      3 estac.   \n",
       "422      3 estac.    USD 110.000  N/A      N/A       N/A           N/A   \n",
       "423           N/A  USD 1.200.000  N/A      N/A       N/A           N/A   \n",
       "\n",
       "    description               url  \n",
       "408         N/A  plusvalia.comN/A  \n",
       "409         N/A  plusvalia.comN/A  \n",
       "410         N/A  plusvalia.comN/A  \n",
       "411         N/A  plusvalia.comN/A  \n",
       "412         N/A  plusvalia.comN/A  \n",
       "413         N/A  plusvalia.comN/A  \n",
       "414         N/A  plusvalia.comN/A  \n",
       "415         N/A  plusvalia.comN/A  \n",
       "416         N/A  plusvalia.comN/A  \n",
       "417         N/A  plusvalia.comN/A  \n",
       "418         N/A  plusvalia.comN/A  \n",
       "419         N/A  plusvalia.comN/A  \n",
       "420         N/A  plusvalia.comN/A  \n",
       "421         N/A  plusvalia.comN/A  \n",
       "422         N/A  plusvalia.comN/A  \n",
       "423         N/A  plusvalia.comN/A  "
      ]
     },
     "execution_count": 60,
     "metadata": {},
     "output_type": "execute_result"
    }
   ],
   "source": [
    "\n"
   ]
  },
  {
   "cell_type": "code",
   "execution_count": null,
   "metadata": {},
   "outputs": [],
   "source": []
  },
  {
   "cell_type": "code",
   "execution_count": null,
   "metadata": {},
   "outputs": [],
   "source": []
  },
  {
   "cell_type": "code",
   "execution_count": null,
   "metadata": {},
   "outputs": [],
   "source": []
  },
  {
   "cell_type": "code",
   "execution_count": null,
   "metadata": {},
   "outputs": [],
   "source": []
  },
  {
   "cell_type": "code",
   "execution_count": null,
   "metadata": {},
   "outputs": [],
   "source": []
  },
  {
   "cell_type": "code",
   "execution_count": null,
   "metadata": {},
   "outputs": [],
   "source": []
  },
  {
   "cell_type": "code",
   "execution_count": null,
   "metadata": {},
   "outputs": [],
   "source": []
  },
  {
   "cell_type": "code",
   "execution_count": null,
   "metadata": {},
   "outputs": [],
   "source": []
  },
  {
   "cell_type": "code",
   "execution_count": null,
   "metadata": {},
   "outputs": [],
   "source": []
  },
  {
   "cell_type": "code",
   "execution_count": null,
   "metadata": {},
   "outputs": [],
   "source": []
  },
  {
   "cell_type": "code",
   "execution_count": null,
   "metadata": {},
   "outputs": [],
   "source": []
  },
  {
   "cell_type": "code",
   "execution_count": null,
   "metadata": {},
   "outputs": [],
   "source": []
  },
  {
   "cell_type": "code",
   "execution_count": null,
   "metadata": {},
   "outputs": [],
   "source": []
  },
  {
   "cell_type": "code",
   "execution_count": null,
   "metadata": {},
   "outputs": [],
   "source": []
  },
  {
   "cell_type": "code",
   "execution_count": null,
   "metadata": {},
   "outputs": [],
   "source": []
  },
  {
   "cell_type": "code",
   "execution_count": null,
   "metadata": {},
   "outputs": [],
   "source": []
  },
  {
   "cell_type": "code",
   "execution_count": null,
   "metadata": {},
   "outputs": [],
   "source": []
  },
  {
   "cell_type": "code",
   "execution_count": null,
   "metadata": {},
   "outputs": [],
   "source": []
  },
  {
   "cell_type": "code",
   "execution_count": null,
   "metadata": {},
   "outputs": [],
   "source": []
  },
  {
   "cell_type": "code",
   "execution_count": null,
   "metadata": {},
   "outputs": [],
   "source": []
  },
  {
   "cell_type": "code",
   "execution_count": null,
   "metadata": {},
   "outputs": [],
   "source": []
  },
  {
   "cell_type": "code",
   "execution_count": null,
   "metadata": {},
   "outputs": [],
   "source": []
  },
  {
   "cell_type": "code",
   "execution_count": 37,
   "metadata": {},
   "outputs": [
    {
     "data": {
      "text/html": [
       "<div>\n",
       "<style scoped>\n",
       "    .dataframe tbody tr th:only-of-type {\n",
       "        vertical-align: middle;\n",
       "    }\n",
       "\n",
       "    .dataframe tbody tr th {\n",
       "        vertical-align: top;\n",
       "    }\n",
       "\n",
       "    .dataframe thead th {\n",
       "        text-align: right;\n",
       "    }\n",
       "</style>\n",
       "<table border=\"1\" class=\"dataframe\">\n",
       "  <thead>\n",
       "    <tr style=\"text-align: right;\">\n",
       "      <th></th>\n",
       "      <th>page</th>\n",
       "      <th>location</th>\n",
       "      <th>neighborhood</th>\n",
       "      <th>area</th>\n",
       "      <th>price</th>\n",
       "      <th>fee</th>\n",
       "      <th>bedrooms</th>\n",
       "      <th>bathrooms</th>\n",
       "      <th>parking_spots</th>\n",
       "      <th>description</th>\n",
       "      <th>url</th>\n",
       "    </tr>\n",
       "  </thead>\n",
       "  <tbody>\n",
       "    <tr>\n",
       "      <th>31</th>\n",
       "      <td>2</td>\n",
       "      <td>Gonzalez Súarez</td>\n",
       "      <td>González Suárez, Quito</td>\n",
       "      <td>344 m² tot.</td>\n",
       "      <td>USD 2.262</td>\n",
       "      <td>USD 1 Alícuota</td>\n",
       "      <td>3 hab.</td>\n",
       "      <td>4 baños</td>\n",
       "      <td>4 estac.</td>\n",
       "      <td>Valor renta $2262, 00 (incluye alícuota) Depar...</td>\n",
       "      <td>plusvalia.com/propiedades/clasificado/alclapin...</td>\n",
       "    </tr>\n",
       "  </tbody>\n",
       "</table>\n",
       "</div>"
      ],
      "text/plain": [
       "    page         location            neighborhood         area      price  \\\n",
       "31     2  Gonzalez Súarez  González Suárez, Quito  344 m² tot.  USD 2.262   \n",
       "\n",
       "               fee bedrooms bathrooms parking_spots  \\\n",
       "31  USD 1 Alícuota   3 hab.   4 baños      4 estac.   \n",
       "\n",
       "                                          description  \\\n",
       "31  Valor renta $2262, 00 (incluye alícuota) Depar...   \n",
       "\n",
       "                                                  url  \n",
       "31  plusvalia.com/propiedades/clasificado/alclapin...  "
      ]
     },
     "execution_count": 37,
     "metadata": {},
     "output_type": "execute_result"
    }
   ],
   "source": []
  },
  {
   "cell_type": "code",
   "execution_count": null,
   "metadata": {},
   "outputs": [],
   "source": []
  },
  {
   "cell_type": "code",
   "execution_count": null,
   "metadata": {},
   "outputs": [],
   "source": []
  },
  {
   "cell_type": "code",
   "execution_count": null,
   "metadata": {},
   "outputs": [],
   "source": []
  },
  {
   "cell_type": "code",
   "execution_count": null,
   "metadata": {},
   "outputs": [],
   "source": []
  },
  {
   "cell_type": "code",
   "execution_count": null,
   "metadata": {},
   "outputs": [],
   "source": []
  },
  {
   "cell_type": "code",
   "execution_count": null,
   "metadata": {},
   "outputs": [],
   "source": []
  },
  {
   "cell_type": "code",
   "execution_count": null,
   "metadata": {},
   "outputs": [],
   "source": []
  },
  {
   "cell_type": "code",
   "execution_count": null,
   "metadata": {},
   "outputs": [],
   "source": []
  },
  {
   "cell_type": "code",
   "execution_count": null,
   "metadata": {},
   "outputs": [],
   "source": []
  },
  {
   "cell_type": "code",
   "execution_count": null,
   "metadata": {},
   "outputs": [],
   "source": []
  },
  {
   "cell_type": "code",
   "execution_count": null,
   "metadata": {},
   "outputs": [],
   "source": []
  },
  {
   "cell_type": "code",
   "execution_count": null,
   "metadata": {},
   "outputs": [],
   "source": []
  },
  {
   "cell_type": "code",
   "execution_count": null,
   "metadata": {},
   "outputs": [],
   "source": []
  },
  {
   "cell_type": "code",
   "execution_count": 21,
   "metadata": {},
   "outputs": [
    {
     "data": {
      "text/html": [
       "<div>\n",
       "<style scoped>\n",
       "    .dataframe tbody tr th:only-of-type {\n",
       "        vertical-align: middle;\n",
       "    }\n",
       "\n",
       "    .dataframe tbody tr th {\n",
       "        vertical-align: top;\n",
       "    }\n",
       "\n",
       "    .dataframe thead th {\n",
       "        text-align: right;\n",
       "    }\n",
       "</style>\n",
       "<table border=\"1\" class=\"dataframe\">\n",
       "  <thead>\n",
       "    <tr style=\"text-align: right;\">\n",
       "      <th></th>\n",
       "      <th>page</th>\n",
       "      <th>location</th>\n",
       "      <th>neighborhood</th>\n",
       "      <th>area</th>\n",
       "      <th>price</th>\n",
       "      <th>fee</th>\n",
       "      <th>bedrooms</th>\n",
       "      <th>bathrooms</th>\n",
       "      <th>parking_spots</th>\n",
       "      <th>description</th>\n",
       "    </tr>\n",
       "  </thead>\n",
       "  <tbody>\n",
       "    <tr>\n",
       "      <th>149</th>\n",
       "      <td>6</td>\n",
       "      <td>urbanización san rafael</td>\n",
       "      <td>N/A</td>\n",
       "      <td>275 m² tot.</td>\n",
       "      <td>USD 127.500</td>\n",
       "      <td>N/A</td>\n",
       "      <td>3 hab.</td>\n",
       "      <td>2 baños</td>\n",
       "      <td>2 estac.</td>\n",
       "      <td>N/A</td>\n",
       "    </tr>\n",
       "  </tbody>\n",
       "</table>\n",
       "</div>"
      ],
      "text/plain": [
       "     page                 location neighborhood         area        price  \\\n",
       "149     6  urbanización san rafael          N/A  275 m² tot.  USD 127.500   \n",
       "\n",
       "     fee bedrooms bathrooms parking_spots description  \n",
       "149  N/A   3 hab.   2 baños      2 estac.         N/A  "
      ]
     },
     "execution_count": 21,
     "metadata": {},
     "output_type": "execute_result"
    }
   ],
   "source": [
    "property = properties_df[properties_df['price'].str.contains('USD 127.500')]\n",
    "property"
   ]
  },
  {
   "cell_type": "code",
   "execution_count": null,
   "metadata": {},
   "outputs": [],
   "source": []
  },
  {
   "cell_type": "code",
   "execution_count": null,
   "metadata": {},
   "outputs": [],
   "source": []
  },
  {
   "cell_type": "code",
   "execution_count": null,
   "metadata": {},
   "outputs": [],
   "source": []
  },
  {
   "cell_type": "code",
   "execution_count": null,
   "metadata": {},
   "outputs": [],
   "source": []
  },
  {
   "cell_type": "code",
   "execution_count": null,
   "metadata": {},
   "outputs": [],
   "source": []
  },
  {
   "cell_type": "code",
   "execution_count": 16,
   "metadata": {},
   "outputs": [
    {
     "data": {
      "text/plain": [
       "'En el corazón del Valle de los Chillos vendo hermosa casa con amplios y elegantes espacios ideal para distrutarla en familia, esta dentro de urbanización qué tiene áreas verdes, parques, área para patinaje, excelente entorno, clima, ubicación. La casa está distribuida de la siguiente manera: Amplio jardín de entrada. Sala comedor amplios. Cocina con family room. 3 habitaciones amplias con baño completo. 1 habitación máster super amplia con ventanales de pared a techo, closet y walking closet. Todos los muebles son personalizados y funcionales, la casa está domotizada. Área de lavandería. Bodega muy bien dispuesta. Baño completo de servicio. Baño de visitas completo. Piscina temperada con iluminación. Patio área de bbq. Sala familia con mesa de Poker con usb, Bar, baño completo, con acceso directo al jardín y a la piscina. Estacionamiento para 5 vehículos. Un propiedad con mucho estilo. Ideal para usted'"
      ]
     },
     "execution_count": 16,
     "metadata": {},
     "output_type": "execute_result"
    }
   ],
   "source": [
    "property_description = property['description']\n",
    "property_description"
   ]
  },
  {
   "cell_type": "code",
   "execution_count": null,
   "metadata": {},
   "outputs": [],
   "source": []
  },
  {
   "cell_type": "code",
   "execution_count": null,
   "metadata": {},
   "outputs": [],
   "source": []
  },
  {
   "cell_type": "code",
   "execution_count": null,
   "metadata": {},
   "outputs": [],
   "source": []
  },
  {
   "cell_type": "code",
   "execution_count": null,
   "metadata": {},
   "outputs": [],
   "source": []
  },
  {
   "cell_type": "code",
   "execution_count": null,
   "metadata": {},
   "outputs": [],
   "source": []
  },
  {
   "cell_type": "code",
   "execution_count": null,
   "metadata": {},
   "outputs": [],
   "source": []
  },
  {
   "cell_type": "code",
   "execution_count": null,
   "metadata": {},
   "outputs": [],
   "source": []
  },
  {
   "cell_type": "code",
   "execution_count": null,
   "metadata": {},
   "outputs": [],
   "source": []
  },
  {
   "cell_type": "code",
   "execution_count": null,
   "metadata": {},
   "outputs": [],
   "source": []
  },
  {
   "cell_type": "code",
   "execution_count": null,
   "metadata": {},
   "outputs": [],
   "source": []
  }
 ],
 "metadata": {
  "kernelspec": {
   "display_name": "chatbot",
   "language": "python",
   "name": "python3"
  },
  "language_info": {
   "codemirror_mode": {
    "name": "ipython",
    "version": 3
   },
   "file_extension": ".py",
   "mimetype": "text/x-python",
   "name": "python",
   "nbconvert_exporter": "python",
   "pygments_lexer": "ipython3",
   "version": "3.11.7"
  }
 },
 "nbformat": 4,
 "nbformat_minor": 2
}
